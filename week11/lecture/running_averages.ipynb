{
 "cells": [
  {
   "cell_type": "markdown",
   "id": "8cd15292",
   "metadata": {},
   "source": [
    "If I have six numbers 1,3,-1,0,2,4 then I can do rolling averages...\n",
    "\n",
    "The rolling average based on two sequential data points would give (1+3)/2 = 2 and (3-1)/2 = 1 as the first two numbers.  There are five sequential pairs and so the rolling average would be 2, 1, -.5, 1, 3\n",
    "\n",
    "The rolling average based on three sequential data points would give (1+3-1)/3 = 1 and (3-1+0)/3 = 2/3 as the first two numbers.  There are four sequential triples and the rolling average would be 1, 2/3, 1/3, 2\n",
    "\n",
    "You can see that the longer the window we're averaging over, the shorter the result is.  You can make the window longer and longer until, ouroboros-like, the window is the same length as the number of data points... at this point you get only one number in your rolling average: (1+3-1+0+2+6)/6 = 1.5\n",
    "\n",
    "So.  What do we do?  Given a string of data, we can try window of various lengths and see what the rolling average does to the data.  \n",
    "\n",
    "Given any tool, you try it on artificial data so that you have a chance of understanding what it does.\n",
    "\n",
    "I've created a data file that has four strings of data: linear, linear+noise, trig, trig+noise\n",
    "\n",
    "Let's start by loading the data and looking at the first string"
   ]
  },
  {
   "cell_type": "code",
   "execution_count": null,
   "id": "1a172c25",
   "metadata": {},
   "outputs": [],
   "source": [
    "import pandas as pd\n",
    "test_data_df = pd.read_csv(\"test_data.csv\")\n",
    "test_data_df['y_linear'].plot(figsize=(20,8))"
   ]
  },
  {
   "cell_type": "markdown",
   "id": "4d6a369b",
   "metadata": {},
   "source": [
    "Great!  It's a line.  What if I want to see my data points?"
   ]
  },
  {
   "cell_type": "code",
   "execution_count": null,
   "id": "5ae4f3d0",
   "metadata": {},
   "outputs": [],
   "source": [
    "test_data_df['y_linear'].plot(figsize=(20,8),style='o-')"
   ]
  },
  {
   "cell_type": "markdown",
   "id": "df7b8229",
   "metadata": {},
   "source": [
    "Great!  Now let's do a running average.  I need to choose the length of the window; I'll do this with the variable n."
   ]
  },
  {
   "cell_type": "code",
   "execution_count": null,
   "id": "38ac5281",
   "metadata": {},
   "outputs": [],
   "source": [
    "n = 5\n",
    "test_data_df['rolling_yl'] = test_data_df['y_linear'].rolling(window=n, center=True).mean()"
   ]
  },
  {
   "cell_type": "markdown",
   "id": "b8f6c0a8",
   "metadata": {},
   "source": [
    "We know that if there are 100 data points and the window is of length 5 then we'll get 100-5+1 = 96 averages.  How does this show up in the data frame?"
   ]
  },
  {
   "cell_type": "code",
   "execution_count": null,
   "id": "e9089fc5",
   "metadata": {},
   "outputs": [],
   "source": [
    "test_data_df"
   ]
  },
  {
   "cell_type": "markdown",
   "id": "2ee1709a",
   "metadata": {},
   "source": [
    "Pandas padded the head and the tail --- see those four NaNs?  Pandas put half at the head and half at the tail.  \n",
    "\n",
    "Note: if n were even then there would be an odd number of NaNs and the padding would be unequal at the head and tail.  This would stop the following graphs from aligning perfectly (this comment will make sense in a bit, just go along for the ride for the moment.)  \n",
    "\n",
    "Let's compare the original data to the rolling-average of the data:"
   ]
  },
  {
   "cell_type": "code",
   "execution_count": null,
   "id": "658c8fde",
   "metadata": {},
   "outputs": [],
   "source": [
    "test_data_df[['y_linear','rolling_yl']].plot(figsize=(20,8),style='o-')"
   ]
  },
  {
   "cell_type": "markdown",
   "id": "91f436f5",
   "metadata": {},
   "source": [
    "Aha!  Rolling averages do nothing (really) to linear functions.  Let's try this with a larger value of n = 25 and then move on to a more interesting example...\n",
    "\n",
    "Note: if we'd taken n = 4 or 6 then the orange dots would be close to but not on the blue dots.  This is what I meant earlier about the effect of taking n even on the graph..."
   ]
  },
  {
   "cell_type": "code",
   "execution_count": null,
   "id": "25b70682",
   "metadata": {},
   "outputs": [],
   "source": [
    "n = 25\n",
    "test_data_df['rolling_yl'] = test_data_df['y_linear'].rolling(window=n, center=True).mean()\n",
    "test_data_df[['y_linear','rolling_yl']].plot(figsize=(20,8),style='o-')"
   ]
  },
  {
   "cell_type": "markdown",
   "id": "38fed51a",
   "metadata": {},
   "source": [
    "Now let's look at a linear sequence that's had noise added to it"
   ]
  },
  {
   "cell_type": "code",
   "execution_count": null,
   "id": "c8963758",
   "metadata": {},
   "outputs": [],
   "source": [
    "test_data_df[['y_linear','y_linear_noise']].plot(figsize=(20,8),style='o-')"
   ]
  },
  {
   "cell_type": "markdown",
   "id": "0602925b",
   "metadata": {},
   "source": [
    "If you only saw the orange line, you would say that it's increasing but can the rolling averages help us see the signal within the signal+noise?  Let's try increasing window sizes!  The green curve is the result of the running average."
   ]
  },
  {
   "cell_type": "code",
   "execution_count": null,
   "id": "36f303f3",
   "metadata": {},
   "outputs": [],
   "source": [
    "n = 5\n",
    "test_data_df['rolling_yln'] = test_data_df['y_linear_noise'].rolling(window=n, center=True).mean()\n",
    "test_data_df[['y_linear','y_linear_noise','rolling_yln']].plot(figsize=(20,8),style='o-')"
   ]
  },
  {
   "cell_type": "code",
   "execution_count": null,
   "id": "d583d729",
   "metadata": {},
   "outputs": [],
   "source": [
    "n = 11\n",
    "test_data_df['rolling_yln'] = test_data_df['y_linear_noise'].rolling(window=n, center=True).mean()\n",
    "test_data_df[['y_linear','y_linear_noise','rolling_yln']].plot(figsize=(20,8),style='o-')"
   ]
  },
  {
   "cell_type": "code",
   "execution_count": null,
   "id": "29af85c5",
   "metadata": {},
   "outputs": [],
   "source": [
    "n = 21\n",
    "test_data_df['rolling_yln'] = test_data_df['y_linear_noise'].rolling(window=n, center=True).mean()\n",
    "test_data_df[['y_linear','y_linear_noise','rolling_yln']].plot(figsize=(20,8),style='o-')"
   ]
  },
  {
   "cell_type": "markdown",
   "id": "d941e64e",
   "metadata": {},
   "source": [
    "So we see that we seem to be getting closer to the true underlying signal (the blue line).  Will this always be true?\n",
    "\n",
    "The thing is... averages work great with linear things.  They're useful for other things but not as perfect.  \n",
    "\n",
    "Let's repeat the experiment with a nice trig function.  (Oooooooh!  Math Buzz Word!  Trig = trigonometric = a function like sine or cosine = a very function that goes up and down and up and down in a nice regular way and has other great properties too)\n",
    "\n",
    "First let's look at the data"
   ]
  },
  {
   "cell_type": "code",
   "execution_count": null,
   "id": "582da87d",
   "metadata": {},
   "outputs": [],
   "source": [
    "test_data_df['y_trig'].plot(figsize=(20,8),style='o-')"
   ]
  },
  {
   "cell_type": "markdown",
   "id": "f3c090a9",
   "metadata": {},
   "source": [
    "Now let's see what running averages do to this data!"
   ]
  },
  {
   "cell_type": "code",
   "execution_count": null,
   "id": "efe8af13",
   "metadata": {},
   "outputs": [],
   "source": [
    "n = 5\n",
    "test_data_df['rolling_yt'] = test_data_df['y_trig'].rolling(window=n, center=True).mean()\n",
    "test_data_df[['y_trig','rolling_yt']].plot(figsize=(20,8),style='o-')"
   ]
  },
  {
   "cell_type": "code",
   "execution_count": null,
   "id": "8356118d",
   "metadata": {},
   "outputs": [],
   "source": [
    "n = 15\n",
    "test_data_df['rolling_yt'] = test_data_df['y_trig'].rolling(window=n, center=True).mean()\n",
    "test_data_df[['y_trig','rolling_yt']].plot(figsize=(20,8),style='o-')"
   ]
  },
  {
   "cell_type": "code",
   "execution_count": null,
   "id": "a81daa6a",
   "metadata": {},
   "outputs": [],
   "source": [
    "n = 25\n",
    "test_data_df['rolling_yt'] = test_data_df['y_trig'].rolling(window=n, center=True).mean()\n",
    "test_data_df[['y_trig','rolling_yt']].plot(figsize=(20,8),style='o-')"
   ]
  },
  {
   "cell_type": "markdown",
   "id": "2291971c",
   "metadata": {},
   "source": [
    "Hmmmmm... the shape of the funciton is affected by the averaging process... we'll need to bear that in mind.\n",
    "\n",
    "Let's look at trig + noise!"
   ]
  },
  {
   "cell_type": "code",
   "execution_count": null,
   "id": "8a6fa7b9",
   "metadata": {},
   "outputs": [],
   "source": [
    "test_data_df[['y_trig','y_trig_noise']].plot(figsize=(20,8),style='o-')"
   ]
  },
  {
   "cell_type": "markdown",
   "id": "48fdb5ef",
   "metadata": {},
   "source": [
    "If we do running averages on the trig+noise (the orange data) can we get something that looks more trig-like and less noisy?  \n",
    "\n",
    "We know from the linear experiment that the longer the running average window, the more the noise gets \"averaged out\" but we also know that the longer the running-average window the more the running average of the trig function deviates from the trig function.  Caught between Scylla and Charybdis..."
   ]
  },
  {
   "cell_type": "code",
   "execution_count": null,
   "id": "72d4c3e3",
   "metadata": {},
   "outputs": [],
   "source": [
    "n = 5\n",
    "test_data_df['rolling_ytn'] = test_data_df['y_trig_noise'].rolling(window=n, center=True).mean()\n",
    "test_data_df[['y_trig','y_trig_noise','rolling_ytn']].plot(figsize=(20,8),style='o-')"
   ]
  },
  {
   "cell_type": "code",
   "execution_count": null,
   "id": "fc6020cd",
   "metadata": {},
   "outputs": [],
   "source": [
    "n = 15\n",
    "test_data_df['rolling_ytn'] = test_data_df['y_trig_noise'].rolling(window=n, center=True).mean()\n",
    "test_data_df[['y_trig','y_trig_noise','rolling_ytn']].plot(figsize=(20,8),style='o-')"
   ]
  },
  {
   "cell_type": "code",
   "execution_count": null,
   "id": "9166be99",
   "metadata": {},
   "outputs": [],
   "source": [
    "n = 25\n",
    "test_data_df['rolling_ytn'] = test_data_df['y_trig_noise'].rolling(window=n, center=True).mean()\n",
    "test_data_df[['y_trig','y_trig_noise','rolling_ytn']].plot(figsize=(20,8),style='o-')"
   ]
  },
  {
   "cell_type": "code",
   "execution_count": null,
   "id": "530db0ce",
   "metadata": {},
   "outputs": [],
   "source": [
    "n = 35\n",
    "test_data_df['rolling_ytn'] = test_data_df['y_trig_noise'].rolling(window=n, center=True).mean()\n",
    "test_data_df[['y_trig','y_trig_noise','rolling_ytn']].plot(figsize=(20,8),style='o-')"
   ]
  },
  {
   "cell_type": "markdown",
   "id": "0f2d9506",
   "metadata": {},
   "source": [
    "There's seems to be some sort of \"sweet spot\" when the running average window is around 15 or so.  But the only reason we know this because we're working with artificially constructed data and so we know what we're aiming for.  We know what \"truth\" is and so even when we add noise to the truth and then try to \"denoise\" the result, being able to judge the quality of our tool depended on knowing the underlying truth.  In general, we don't know the underlying truth and so how do we know what's a good size of window for the running average?  \n",
    "\n",
    "There are many different ways to smooth and/or de-noise data.  But we're not going to go there, I just wanted you to see how the rolling-averages tool behaves in some basic situations. "
   ]
  },
  {
   "cell_type": "code",
   "execution_count": null,
   "id": "a50d3f35",
   "metadata": {},
   "outputs": [],
   "source": []
  }
 ],
 "metadata": {
  "kernelspec": {
   "display_name": "Python 3 (ipykernel)",
   "language": "python",
   "name": "python3"
  },
  "language_info": {
   "codemirror_mode": {
    "name": "ipython",
    "version": 3
   },
   "file_extension": ".py",
   "mimetype": "text/x-python",
   "name": "python",
   "nbconvert_exporter": "python",
   "pygments_lexer": "ipython3",
   "version": "3.9.7"
  }
 },
 "nbformat": 4,
 "nbformat_minor": 5
}
