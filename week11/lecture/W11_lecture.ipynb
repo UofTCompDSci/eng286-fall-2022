{
 "cells": [
  {
   "cell_type": "markdown",
   "metadata": {},
   "source": [
    "# Week 11: Sentiment Analysis, Part 2: Plotting Curves with Rolling Averages\n",
    "\n",
    "This week, our questions and concepts are robust, but the amount of new code to learn is modest :)\n",
    "\n",
    "Our focus is on plotting \"sentiment curves.\" We will:\n",
    "* Plot the raw values for sentiment in *The Sign of the Four*\n",
    "* Calculate rolling averages, plot them, and investigate the portions of the text at which the minimum and maximum points occur"
   ]
  },
  {
   "cell_type": "markdown",
   "metadata": {},
   "source": [
    "# Getting started\n",
    "\n",
    "First, let's import our libraries, set our Pandas display options, and reload the data produced during last week's lecture (handily stored in a CSV that lives in the same folder as this notebook)."
   ]
  },
  {
   "cell_type": "code",
   "execution_count": null,
   "metadata": {},
   "outputs": [],
   "source": [
    "import pandas as pd\n",
    "from textblob import TextBlob"
   ]
  },
  {
   "cell_type": "code",
   "execution_count": null,
   "metadata": {},
   "outputs": [],
   "source": [
    "pd.set_option('display.max_colwidth', 0)"
   ]
  },
  {
   "cell_type": "code",
   "execution_count": null,
   "metadata": {},
   "outputs": [],
   "source": [
    "sot4_sentence_sentiment_df = pd.read_csv(\"sot4_sentence_sentiment.csv\")\n",
    "sot4_sentence_sentiment_df[:15]"
   ]
  },
  {
   "cell_type": "markdown",
   "metadata": {},
   "source": [
    "Now let's run the command we ended last lecture with, plotting the \"raw\" sentiment polarity values for every sentence in *The Sign of the Four*. Can we learn much from this?"
   ]
  },
  {
   "cell_type": "code",
   "execution_count": null,
   "metadata": {},
   "outputs": [],
   "source": [
    "sot4_sentence_sentiment_df[['polarity']].plot(figsize=(20,8))"
   ]
  },
  {
   "cell_type": "markdown",
   "metadata": {},
   "source": [
    "Just for fun, let's have a look at the raw subjectivity scores, too..."
   ]
  },
  {
   "cell_type": "code",
   "execution_count": null,
   "metadata": {
    "scrolled": true
   },
   "outputs": [],
   "source": [
    "sot4_sentence_sentiment_df[['subjectivity']].plot(figsize=(20,8))"
   ]
  },
  {
   "cell_type": "markdown",
   "metadata": {},
   "source": [
    "Okay, at this point, I will give a little lecture about Matthew Jockers and Annie Swafford and Fourier Transforms, and then we will pass things over to Mary to explain rolling averages to us..."
   ]
  },
  {
   "cell_type": "markdown",
   "metadata": {},
   "source": [
    "# Rolling Averages in Pandas\n",
    "\n",
    "Pandas is basically built to do things like calculate rolling averages. It makes it really easy, which is awesome. All we need to do is specify:\n",
    "- What part of the DataFrame we're interested in (here, the `polarity` column)\n",
    "- That we want to do a rolling... something or other (the `.rolling()` method)... and that we want our rolling window size to be (here it's 10, indicated with the `window=10` agument) and that we want these rolling averages to be \"centred\" — which you'll understand if you were in lecture 😊 and which is explained in Mary's lecture (the `centred=True` argument)\n",
    "- That the \"something or other\" we want are rolling **averages (or means)** (indicated with the `.mean()` method)"
   ]
  },
  {
   "cell_type": "code",
   "execution_count": null,
   "metadata": {},
   "outputs": [],
   "source": [
    "sot4_sentence_sentiment_df['polarity'].rolling(window=10, center=True).mean()"
   ]
  },
  {
   "cell_type": "markdown",
   "metadata": {},
   "source": [
    "It would be a lot handier if that were a column in our DataFrame — so let's put that data there!"
   ]
  },
  {
   "cell_type": "code",
   "execution_count": null,
   "metadata": {},
   "outputs": [],
   "source": [
    "sot4_sentence_sentiment_df['rolling_10_polarity'] = sot4_sentence_sentiment_df['polarity'].rolling(window=10, center=True).mean()"
   ]
  },
  {
   "cell_type": "code",
   "execution_count": null,
   "metadata": {
    "scrolled": false
   },
   "outputs": [],
   "source": [
    "sot4_sentence_sentiment_df[:15]"
   ]
  },
  {
   "cell_type": "markdown",
   "metadata": {},
   "source": [
    "Now all we need to do is to plot our new column! \n",
    "\n",
    "Does that look any better?"
   ]
  },
  {
   "cell_type": "code",
   "execution_count": null,
   "metadata": {},
   "outputs": [],
   "source": [
    "sot4_sentence_sentiment_df[['rolling_10_polarity']].plot(figsize=(20,8))"
   ]
  },
  {
   "cell_type": "code",
   "execution_count": null,
   "metadata": {},
   "outputs": [],
   "source": [
    "sot4_sentence_sentiment_df[['polarity','rolling_10_polarity']].plot(figsize=(20,8))"
   ]
  },
  {
   "cell_type": "markdown",
   "metadata": {},
   "source": [
    "Let's try some other window sizes: 25, 50, and 100. (You can try others, too!)"
   ]
  },
  {
   "cell_type": "code",
   "execution_count": null,
   "metadata": {},
   "outputs": [],
   "source": [
    "sot4_sentence_sentiment_df['rolling_25_polarity'] = sot4_sentence_sentiment_df['polarity'].rolling(window=25, center=True).mean()"
   ]
  },
  {
   "cell_type": "code",
   "execution_count": null,
   "metadata": {},
   "outputs": [],
   "source": [
    "sot4_sentence_sentiment_df[['rolling_25_polarity']].plot(figsize=(20,8))"
   ]
  },
  {
   "cell_type": "code",
   "execution_count": null,
   "metadata": {},
   "outputs": [],
   "source": [
    "sot4_sentence_sentiment_df[['rolling_10_polarity','rolling_25_polarity']].plot(figsize=(20,8))"
   ]
  },
  {
   "cell_type": "code",
   "execution_count": null,
   "metadata": {},
   "outputs": [],
   "source": [
    "sot4_sentence_sentiment_df['rolling_50_polarity'] = sot4_sentence_sentiment_df['polarity'].rolling(window=50, center=True).mean()"
   ]
  },
  {
   "cell_type": "code",
   "execution_count": null,
   "metadata": {},
   "outputs": [],
   "source": [
    "sot4_sentence_sentiment_df[['rolling_50_polarity']].plot(figsize=(20,8))"
   ]
  },
  {
   "cell_type": "code",
   "execution_count": null,
   "metadata": {},
   "outputs": [],
   "source": [
    "sot4_sentence_sentiment_df[['rolling_25_polarity','rolling_50_polarity']].plot(figsize=(20,8))"
   ]
  },
  {
   "cell_type": "code",
   "execution_count": null,
   "metadata": {},
   "outputs": [],
   "source": [
    "sot4_sentence_sentiment_df['rolling_100_polarity'] = sot4_sentence_sentiment_df['polarity'].rolling(window=100, center=True).mean()"
   ]
  },
  {
   "cell_type": "code",
   "execution_count": null,
   "metadata": {
    "scrolled": true
   },
   "outputs": [],
   "source": [
    "sot4_sentence_sentiment_df[['rolling_100_polarity']].plot(figsize=(20,8))"
   ]
  },
  {
   "cell_type": "code",
   "execution_count": null,
   "metadata": {},
   "outputs": [],
   "source": [
    "sot4_sentence_sentiment_df[['rolling_50_polarity','rolling_100_polarity']].plot(figsize=(20,8))"
   ]
  },
  {
   "cell_type": "code",
   "execution_count": null,
   "metadata": {},
   "outputs": [],
   "source": [
    "sot4_sentence_sentiment_df[['polarity','rolling_10_polarity','rolling_25_polarity','rolling_50_polarity','rolling_100_polarity']].plot(figsize=(20,8))"
   ]
  },
  {
   "cell_type": "markdown",
   "metadata": {},
   "source": [
    "# Finding the Maximum and Minimum Points\n",
    "\n",
    "The below line of Pandas code is an absolute whopper... but I think we're all ready for it at this point!"
   ]
  },
  {
   "cell_type": "code",
   "execution_count": null,
   "metadata": {
    "scrolled": true
   },
   "outputs": [],
   "source": [
    "sot4_sentence_sentiment_df[sot4_sentence_sentiment_df['rolling_50_polarity']==sot4_sentence_sentiment_df['rolling_50_polarity'].min()]"
   ]
  },
  {
   "cell_type": "code",
   "execution_count": null,
   "metadata": {},
   "outputs": [],
   "source": [
    "sot4_sentence_sentiment_df['rolling_50_polarity'].min()"
   ]
  },
  {
   "cell_type": "code",
   "execution_count": null,
   "metadata": {},
   "outputs": [],
   "source": [
    "min_polarity_50 = sot4_sentence_sentiment_df['rolling_50_polarity'].min()"
   ]
  },
  {
   "cell_type": "code",
   "execution_count": null,
   "metadata": {},
   "outputs": [],
   "source": [
    "sot4_sentence_sentiment_df['rolling_50_polarity'] == min_polarity_50"
   ]
  },
  {
   "cell_type": "code",
   "execution_count": null,
   "metadata": {},
   "outputs": [],
   "source": [
    "has_min_polarity_50 = sot4_sentence_sentiment_df['rolling_50_polarity'] == min_polarity_50"
   ]
  },
  {
   "cell_type": "code",
   "execution_count": null,
   "metadata": {},
   "outputs": [],
   "source": [
    "sot4_sentence_sentiment_df[has_min_polarity_50]"
   ]
  },
  {
   "cell_type": "code",
   "execution_count": null,
   "metadata": {},
   "outputs": [],
   "source": [
    "sot4_sentence_sentiment_df[sot4_sentence_sentiment_df['rolling_10_polarity']==sot4_sentence_sentiment_df['rolling_10_polarity'].min()]"
   ]
  },
  {
   "cell_type": "code",
   "execution_count": null,
   "metadata": {},
   "outputs": [],
   "source": [
    "sot4_sentence_sentiment_df[sot4_sentence_sentiment_df['rolling_25_polarity']==sot4_sentence_sentiment_df['rolling_25_polarity'].min()]"
   ]
  },
  {
   "cell_type": "code",
   "execution_count": null,
   "metadata": {},
   "outputs": [],
   "source": [
    "sot4_sentence_sentiment_df[sot4_sentence_sentiment_df['rolling_50_polarity']==sot4_sentence_sentiment_df['rolling_50_polarity'].min()]"
   ]
  },
  {
   "cell_type": "code",
   "execution_count": null,
   "metadata": {
    "scrolled": true
   },
   "outputs": [],
   "source": [
    "sot4_sentence_sentiment_df[sot4_sentence_sentiment_df['rolling_100_polarity']==sot4_sentence_sentiment_df['rolling_100_polarity'].min()]"
   ]
  },
  {
   "cell_type": "markdown",
   "metadata": {},
   "source": [
    "Let's have a look now at the *maximum* points..."
   ]
  },
  {
   "cell_type": "code",
   "execution_count": null,
   "metadata": {},
   "outputs": [],
   "source": [
    "sot4_sentence_sentiment_df[sot4_sentence_sentiment_df['rolling_10_polarity']==sot4_sentence_sentiment_df['rolling_10_polarity'].max()]"
   ]
  },
  {
   "cell_type": "code",
   "execution_count": null,
   "metadata": {},
   "outputs": [],
   "source": [
    "sot4_sentence_sentiment_df[sot4_sentence_sentiment_df['rolling_25_polarity']==sot4_sentence_sentiment_df['rolling_25_polarity'].max()]"
   ]
  },
  {
   "cell_type": "code",
   "execution_count": null,
   "metadata": {},
   "outputs": [],
   "source": [
    "sot4_sentence_sentiment_df[sot4_sentence_sentiment_df['rolling_50_polarity']==sot4_sentence_sentiment_df['rolling_50_polarity'].max()]"
   ]
  },
  {
   "cell_type": "code",
   "execution_count": null,
   "metadata": {},
   "outputs": [],
   "source": [
    "sot4_sentence_sentiment_df[sot4_sentence_sentiment_df['rolling_100_polarity']==sot4_sentence_sentiment_df['rolling_100_polarity'].max()]"
   ]
  },
  {
   "cell_type": "markdown",
   "metadata": {},
   "source": [
    "# Investigating the Extremes \n",
    "\n",
    "Let's have a look at the 50-sentence window that the `rolling_50_polarity` score indicates are the most negative and most positive, and see if seems like it's on to something...\n",
    "\n",
    "(Yeah, that's right, I'm just taking the min and max points, then manually adding and subtracting 25 to make a 50-sentence window! The minimum window is centred at 831 and the maximum at 1557.)"
   ]
  },
  {
   "cell_type": "code",
   "execution_count": null,
   "metadata": {},
   "outputs": [],
   "source": [
    "sot4_sentence_sentiment_df[782:832]"
   ]
  },
  {
   "cell_type": "code",
   "execution_count": null,
   "metadata": {},
   "outputs": [],
   "source": [
    "sot4_sentence_sentiment_df.loc[1508:1558]"
   ]
  },
  {
   "cell_type": "markdown",
   "metadata": {},
   "source": [
    "# Using TextBlob's Other Sentiment System\n",
    "\n",
    "We probably won't have time for this, but just in case — let's try using TextBlob's other built-in sentiment system — the Naive Bayes classifier trained on movie reviews — and see what basic shape it gives. \n",
    "\n",
    "You'll recall that this is the basic syntax for calling it..."
   ]
  },
  {
   "cell_type": "code",
   "execution_count": null,
   "metadata": {},
   "outputs": [],
   "source": [
    "from textblob.sentiments import NaiveBayesAnalyzer\n",
    "\n",
    "TextBlob(\"Neil Young is the greatest artist to come out of this country\", analyzer=NaiveBayesAnalyzer()).sentiment"
   ]
  },
  {
   "cell_type": "markdown",
   "metadata": {},
   "source": [
    "If we then subset that to to `[1]`, the `p_pos` value, we'll get its sense of how positive that sentence is (which is equal to 1-`p_neg`)."
   ]
  },
  {
   "cell_type": "code",
   "execution_count": null,
   "metadata": {},
   "outputs": [],
   "source": [
    "TextBlob(\"Neil Young is the greatest artist to come out of this country\", analyzer=NaiveBayesAnalyzer()).sentiment[1]"
   ]
  },
  {
   "cell_type": "markdown",
   "metadata": {},
   "source": [
    "Okay, let's build up a DataFrame from parallel lists, like we did last week."
   ]
  },
  {
   "cell_type": "code",
   "execution_count": null,
   "metadata": {},
   "outputs": [],
   "source": [
    "sot4 = open(\"sign-of-four.txt\", encoding=\"utf-8\").read()\n",
    "sot4_blob = TextBlob(sot4, analyzer=NaiveBayesAnalyzer())\n",
    "sot4_sentences_blob = sot4_blob.sentences\n",
    "\n",
    "sot4_ppos = []\n",
    "for sentence in sot4_sentences_blob:\n",
    "    sot4_ppos.append(sentence.sentiment[1])\n",
    "    \n",
    "sot4_sentences = []\n",
    "for sentence in sot4_sentences_blob:\n",
    "    sot4_sentences.append(\" \".join(sentence.words))\n",
    "\n",
    "sot4_sentence_bayes_df = pd.DataFrame({\n",
    "    'sentence': sot4_sentences,\n",
    "    'ppos': sot4_ppos,\n",
    "})\n",
    "\n",
    "sot4_sentence_bayes_df['rolling_25_ppos'] = sot4_sentence_bayes_df['ppos'].rolling(window=25, center=True).mean()\n",
    "\n",
    "sot4_sentence_bayes_df['rolling_100_ppos'] = sot4_sentence_bayes_df['ppos'].rolling(window=100, center=True).mean()"
   ]
  },
  {
   "cell_type": "code",
   "execution_count": null,
   "metadata": {},
   "outputs": [],
   "source": [
    "sot4_sentence_bayes_df[:10]"
   ]
  },
  {
   "cell_type": "code",
   "execution_count": null,
   "metadata": {},
   "outputs": [],
   "source": [
    "sot4_sentence_bayes_df[['rolling_25_ppos','rolling_100_ppos']].plot(figsize=(20,8))"
   ]
  },
  {
   "cell_type": "code",
   "execution_count": null,
   "metadata": {},
   "outputs": [],
   "source": [
    "sot4_sentence_bayes_df[sot4_sentence_bayes_df['rolling_25_ppos']==sot4_sentence_bayes_df['rolling_25_ppos'].min()]"
   ]
  },
  {
   "cell_type": "code",
   "execution_count": null,
   "metadata": {},
   "outputs": [],
   "source": [
    "sot4_sentence_bayes_df[sot4_sentence_bayes_df['rolling_100_ppos']==sot4_sentence_bayes_df['rolling_100_ppos'].min()]"
   ]
  },
  {
   "cell_type": "code",
   "execution_count": null,
   "metadata": {},
   "outputs": [],
   "source": [
    "sot4_sentence_bayes_df[sot4_sentence_bayes_df['rolling_25_ppos']==sot4_sentence_bayes_df['rolling_25_ppos'].max()]"
   ]
  },
  {
   "cell_type": "code",
   "execution_count": null,
   "metadata": {},
   "outputs": [],
   "source": [
    "sot4_sentence_bayes_df[sot4_sentence_bayes_df['rolling_100_ppos']==sot4_sentence_bayes_df['rolling_100_ppos'].max()]"
   ]
  },
  {
   "cell_type": "code",
   "execution_count": null,
   "metadata": {},
   "outputs": [],
   "source": []
  }
 ],
 "metadata": {
  "kernelspec": {
   "display_name": "Python 3 (ipykernel)",
   "language": "python",
   "name": "python3"
  },
  "language_info": {
   "codemirror_mode": {
    "name": "ipython",
    "version": 3
   },
   "file_extension": ".py",
   "mimetype": "text/x-python",
   "name": "python",
   "nbconvert_exporter": "python",
   "pygments_lexer": "ipython3",
   "version": "3.9.7"
  },
  "vscode": {
   "interpreter": {
    "hash": "901b79e026e03396fd1ffa7133844e9ea80e258ce34c66e1aabb5896bcb18463"
   }
  }
 },
 "nbformat": 4,
 "nbformat_minor": 2
}
