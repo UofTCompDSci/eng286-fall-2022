{
 "cells": [
  {
   "cell_type": "markdown",
   "id": "b05a7de6",
   "metadata": {},
   "source": [
    "# Week 11 Homework\n",
    "\n",
    "## Instructions\n",
    "For each task, write your code in the cell below the comment. (Unlike in labs, there are no per-task tests provided, though you can write your own small tests as you go.) When all of the code is complete, upload it to Markus. \n",
    "\n",
    "## Due date\n",
    "Homeworks are due each week on Monday at 10pm (**Dec 05, 10pm**)"
   ]
  },
  {
   "cell_type": "markdown",
   "id": "13596435",
   "metadata": {},
   "source": [
    "# Task 1: Load a \"Chunked\" Version of James Joyce's *Portrait of the Artist as a Young Man*\n",
    "\n",
    "In the same folder as this notebook, there is a file named `portrait_chunks.csv` which contains two columns and 85 rows:\n",
    "- the `chunk` column contains sequential 1000-word chunks from James Joyce's novel *A Portrait of the Artist as a Young Man*\n",
    "- the `ttr` column contains the TTR for the 1000-word chunk in its row.\n",
    "\n",
    "Import Pandas as `pd` and read `portrait_chunks.csv` into a Pandas DataFrame named `portrait_chunks_df`."
   ]
  },
  {
   "cell_type": "code",
   "execution_count": null,
   "id": "4fa492ab",
   "metadata": {},
   "outputs": [],
   "source": [
    "# Write your code here\n"
   ]
  },
  {
   "cell_type": "markdown",
   "id": "584c625b",
   "metadata": {},
   "source": [
    "# Task 2: Plot the Raw TTR Values for the TTRs\n",
    "\n",
    "Adapt the code from the W11 lecture to plot the raw values for the TTR values from the `portrait_chunks_df` DataFrame. For the purposes of autograding, the figure should have no title and a `figsize` of `(20,8)`. Store the resulting plot in a variable named `raw_plot`."
   ]
  },
  {
   "cell_type": "code",
   "execution_count": null,
   "id": "84ecba6a",
   "metadata": {},
   "outputs": [],
   "source": [
    "# Write your code here\n"
   ]
  },
  {
   "cell_type": "markdown",
   "id": "4b96f8cc",
   "metadata": {},
   "source": [
    "# Task 3: Calculate Rolling Average Columns for 3, 6, and 9-chunk Windows\n",
    "\n",
    "Add three columns to `portrait_chunks_df`: `rolling_3_ttr`, `rolling_6_ttr`, and `rolling_9_ttr`. Each should contain rolling average TTR values with windows sized, respectively, at 3, 6, and 9, and each should use the `center=True` paramater."
   ]
  },
  {
   "cell_type": "code",
   "execution_count": null,
   "id": "799bb708",
   "metadata": {},
   "outputs": [],
   "source": [
    "# Write your code here\n"
   ]
  },
  {
   "cell_type": "markdown",
   "id": "85c84874",
   "metadata": {},
   "source": [
    "# Task 4: Plot Each of the Rolling Average Columns\n",
    "\n",
    "Make three plots; one for each of the rolling average columns created in the previous step. For the purposes of autograding, the figure should have no title and a `figsize` of `(20,8)`. Store them in variables named:\n",
    "- `rolling_3_plot`\n",
    "- `rolling_6_plot`\n",
    "- `rolling_9_plot`"
   ]
  },
  {
   "cell_type": "code",
   "execution_count": null,
   "id": "1bfa0386",
   "metadata": {},
   "outputs": [],
   "source": [
    "# Write your code here for rolling_3_plot\n"
   ]
  },
  {
   "cell_type": "code",
   "execution_count": null,
   "id": "a6f9c744",
   "metadata": {},
   "outputs": [],
   "source": [
    "# Write your code here for rolling_6_plot\n"
   ]
  },
  {
   "cell_type": "code",
   "execution_count": null,
   "id": "cc47c53f",
   "metadata": {},
   "outputs": [],
   "source": [
    "# Write your code here for rolling_9_plot\n"
   ]
  },
  {
   "cell_type": "markdown",
   "id": "2ce613e9",
   "metadata": {},
   "source": [
    "# Task 5: Find the Minimum and Maximum Values of the `rolling_9_ttr` Column\n",
    "\n",
    "Store the minimum and maximum **values** (not number of the chunk that contains the minimum and maximum values, not the text of the chunk that contains the minimum and maximum values, but the actual minimum and maximum **values**). Store them in variables named:\n",
    "- `rolling_9_ttr_min`\n",
    "- `rolling_9_ttr_max`"
   ]
  },
  {
   "cell_type": "code",
   "execution_count": null,
   "id": "739bfb27",
   "metadata": {},
   "outputs": [],
   "source": [
    "# Write your code here\n"
   ]
  },
  {
   "cell_type": "markdown",
   "id": "9aebc834",
   "metadata": {},
   "source": [
    "\n",
    "## Marking Rubric\n",
    "This assignment will be autograded in Markus, and your mark fully determined by the \"correctness\" of the code as measured by the autograder. For example, if it says that 60% of the tests passed successfully, your mark on the assignment will be 60%. You will be able to see your mark right away and can resubmit the assignment as many times as you like to improve your mark.\n",
    "\n",
    "## How to Submit\n",
    "1. Download your homework to your local computer and save it as `W11_hw.ipynb`.\n",
    "2. Log in here: https://markus-ds.teach.cs.toronto.edu.\n",
    "3. Submit your homework to `hw11: Homework 11`.\n"
   ]
  }
 ],
 "metadata": {
  "kernelspec": {
   "display_name": "Python 3",
   "language": "python",
   "name": "python3"
  },
  "language_info": {
   "codemirror_mode": {
    "name": "ipython",
    "version": 3
   },
   "file_extension": ".py",
   "mimetype": "text/x-python",
   "name": "python",
   "nbconvert_exporter": "python",
   "pygments_lexer": "ipython3",
   "version": "3.7.4"
  }
 },
 "nbformat": 4,
 "nbformat_minor": 5
}
