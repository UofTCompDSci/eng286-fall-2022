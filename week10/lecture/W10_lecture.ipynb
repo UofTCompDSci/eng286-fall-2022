{
 "cells": [
  {
   "cell_type": "markdown",
   "metadata": {},
   "source": [
    "# Week 10: Sentiment Analysis\n",
    "\n",
    "Our task this week is as follows:\n",
    "* Learn about sentiment analysis, and learn how to use the sentiment analysis package in TextBlob\n",
    "* Load a novel into a dataframe, sentence by sentence.\n",
    "* Record the sentiment values for each sentence in that dataframe\n",
    "* Extract the sentences identified as the \"happiest\" and the \"saddest\" by the sentiment analysis system\n",
    "* Plot the raw values for sentiment in the novel"
   ]
  },
  {
   "cell_type": "markdown",
   "metadata": {},
   "source": [
    "# Sentiment Analysis demo\n",
    "\n",
    "Before we get into how to use TextBlob, let's play around with sentiment analysis a little bit, shall we?\n",
    "\n",
    "## TextBlob (Default, Lexicon-based)\n",
    "\n",
    "The [documentation for TextBlob](https://textblob.readthedocs.io/en/dev/) isn't the best, but the default sentiment system is based on a tool called [pattern](https://github.com/clips/pattern), which employs a sentiment lexicon — a list of words with values, many of them hand-coded. \n",
    "- You can see the source code [here](https://github.com/sloria/TextBlob/blob/6396e24e85af7462cbed648fee21db5082a1f3fb/textblob/en/__init__.py#L8) (around line 80): it basically averages the sentiment scores for the all the words in the span, and applies some rule-based heuristics to identify negations. \n",
    "- You can see the full lexicon [here](https://github.com/sloria/TextBlob/blob/6396e24e85af7462cbed648fee21db5082a1f3fb/textblob/en/en-sentiment.xml); it's mostly adjective-based. "
   ]
  },
  {
   "cell_type": "code",
   "execution_count": null,
   "metadata": {},
   "outputs": [],
   "source": [
    "from textblob import TextBlob"
   ]
  },
  {
   "cell_type": "code",
   "execution_count": null,
   "metadata": {},
   "outputs": [],
   "source": [
    "TextBlob(\"Neil Young is the greatest artist to come out of this country\").polarity"
   ]
  },
  {
   "cell_type": "code",
   "execution_count": null,
   "metadata": {},
   "outputs": [],
   "source": [
    "TextBlob(\"I don't hate Neil Young and his stupid, whiny voice\").polarity"
   ]
  },
  {
   "cell_type": "code",
   "execution_count": null,
   "metadata": {},
   "outputs": [],
   "source": [
    "TextBlob(\"Sometimes I feel like Neil Young is the greatest singer of his generation\").polarity"
   ]
  },
  {
   "cell_type": "code",
   "execution_count": null,
   "metadata": {},
   "outputs": [],
   "source": [
    "TextBlob(\"Neil Old isn’t the worst Canadian musician\").polarity"
   ]
  },
  {
   "cell_type": "code",
   "execution_count": null,
   "metadata": {},
   "outputs": [],
   "source": [
    "TextBlob(\"Oh yeah, Neil Young’s voice is as lovely as Josh Groban’s\").polarity"
   ]
  },
  {
   "cell_type": "code",
   "execution_count": null,
   "metadata": {},
   "outputs": [],
   "source": [
    "TextBlob(\"Hating on amazing music isn’t something I’m known for\").polarity"
   ]
  },
  {
   "cell_type": "code",
   "execution_count": null,
   "metadata": {},
   "outputs": [],
   "source": [
    "TextBlob(\"Neil Young\").polarity"
   ]
  },
  {
   "cell_type": "code",
   "execution_count": null,
   "metadata": {},
   "outputs": [],
   "source": [
    "TextBlob(\"That would be the greatest misfortune of all\").polarity"
   ]
  },
  {
   "cell_type": "markdown",
   "metadata": {},
   "source": [
    "## TextBlob (Naive Bayes Classifier)\n",
    "\n",
    "TextBlob has a second sentiment system, which uses a machine learning approach: a naive Bayes classifier trained on a set of movie reviews. \n",
    "\n",
    "TextBlob actually allows us to make our OWN naive Bayes classifiers... so let's make one to get a sense of how they work. (This example is from Nick Montfort's book *Exploratory Programming for the Arts and Humanities*, and it follows TextBlob's [tutorial \"Building a Text Classification system\"](https://textblob.readthedocs.io/en/dev/classifiers.html).)\n",
    "\n",
    "First, we create our \"training data\" — a list containing a bunch of *tuples*, which are like two-item mini lists, each of which here contains some text and a label, `pos` or `neg`. Then we run the classifier on this training data."
   ]
  },
  {
   "cell_type": "code",
   "execution_count": null,
   "metadata": {},
   "outputs": [],
   "source": [
    "sentiments = [\n",
    "    ('Wittgenstein wrote one of the greatest philosophical works ever, an incredible contribution.', 'pos'),\n",
    "    ('The Oulipo is a radical, pioneering group that has shaped literary history.', 'pos'),\n",
    "    ('What an awesome sunset.', 'pos'),\n",
    "    ('I love it!', 'pos'),\n",
    "    ('Very good plan.', 'pos'),\n",
    "    ('The final season of Game of Thrones made my eyes bleed.', 'neg'),\n",
    "    ('Movies based on DC comic books are extremely tiresome.', 'neg'),\n",
    "    ('That is a horrible idea.', 'neg'),\n",
    "    ('I hate that sort of thing.', 'neg'),\n",
    "    ('You lack imagination.', 'neg')]"
   ]
  },
  {
   "cell_type": "code",
   "execution_count": null,
   "metadata": {},
   "outputs": [],
   "source": [
    "from textblob.classifiers import NaiveBayesClassifier\n",
    "cl = NaiveBayesClassifier(sentiments)"
   ]
  },
  {
   "cell_type": "markdown",
   "metadata": {},
   "source": [
    "TextBlob will tell us what it considers the \"most infortmative features\" (aka words) in our training data. What do you think they will be?"
   ]
  },
  {
   "cell_type": "code",
   "execution_count": null,
   "metadata": {},
   "outputs": [],
   "source": [
    "cl.show_informative_features(10)"
   ]
  },
  {
   "cell_type": "code",
   "execution_count": null,
   "metadata": {},
   "outputs": [],
   "source": [
    "cl.classify(\"Neil Young is the greatest artist to come out of this country\")"
   ]
  },
  {
   "cell_type": "code",
   "execution_count": null,
   "metadata": {},
   "outputs": [],
   "source": [
    "cl.classify(\"I hate Neil Young and his stupid, whiny voice.\")"
   ]
  },
  {
   "cell_type": "code",
   "execution_count": null,
   "metadata": {},
   "outputs": [],
   "source": [
    "cl.classify(\"Hating on amazing music isn’t something I’m known for.\")"
   ]
  },
  {
   "cell_type": "markdown",
   "metadata": {},
   "source": [
    "To use TextBlob's sentiment system based on a naive Bayes classifier model of a [movie reviews dataset](hhttp://www.cs.cornell.edu/people/pabo/movie-review-data/), we need to import it and then pass the `analyzer=NaiveBayesAnalyzer()` parameter to the commands we used above."
   ]
  },
  {
   "cell_type": "code",
   "execution_count": null,
   "metadata": {},
   "outputs": [],
   "source": [
    "from textblob.sentiments import NaiveBayesAnalyzer"
   ]
  },
  {
   "cell_type": "code",
   "execution_count": null,
   "metadata": {},
   "outputs": [],
   "source": [
    "TextBlob(\"Neil Young is the greatest artist to come out of this country\", analyzer=NaiveBayesAnalyzer()).sentiment"
   ]
  },
  {
   "cell_type": "code",
   "execution_count": null,
   "metadata": {},
   "outputs": [],
   "source": [
    "TextBlob(\"I hate Neil Young and his stupid, whiny voice.\", analyzer=NaiveBayesAnalyzer()).sentiment"
   ]
  },
  {
   "cell_type": "code",
   "execution_count": null,
   "metadata": {},
   "outputs": [],
   "source": [
    "TextBlob(\"Sometimes I feel like Neil Young is the greatest singer of his generation\", analyzer=NaiveBayesAnalyzer()).sentiment"
   ]
  },
  {
   "cell_type": "code",
   "execution_count": null,
   "metadata": {},
   "outputs": [],
   "source": [
    "TextBlob(\"Neil Young isn’t the worst Canadian musician\", analyzer=NaiveBayesAnalyzer()).sentiment"
   ]
  },
  {
   "cell_type": "code",
   "execution_count": null,
   "metadata": {},
   "outputs": [],
   "source": [
    "TextBlob(\"Oh yeah, Neil Young’s voice is as lovely as Josh Groban’s\", analyzer=NaiveBayesAnalyzer()).sentiment"
   ]
  },
  {
   "cell_type": "code",
   "execution_count": null,
   "metadata": {},
   "outputs": [],
   "source": [
    "TextBlob(\"Hating on amazing music isn’t something I’m known for\", analyzer=NaiveBayesAnalyzer()).sentiment"
   ]
  },
  {
   "cell_type": "code",
   "execution_count": null,
   "metadata": {},
   "outputs": [],
   "source": [
    "TextBlob(\"That would be the greatest misfortune of all\", analyzer=NaiveBayesAnalyzer()).sentiment"
   ]
  },
  {
   "cell_type": "markdown",
   "metadata": {},
   "source": [
    "# Meet TextBlob!\n",
    "\n",
    "Okay, let's now properly meet TextBlob: a Python library specifically designed for working with text. As you'll see, it does very easily a lot of things that we've been doing the hard way. But we did need to learn how to program in Python!\n",
    "\n",
    "Let's start by importing TextBlob, which we accomplish as follows:"
   ]
  },
  {
   "cell_type": "code",
   "execution_count": 1,
   "metadata": {},
   "outputs": [],
   "source": [
    "from textblob import TextBlob"
   ]
  },
  {
   "cell_type": "markdown",
   "metadata": {},
   "source": [
    "The way we work with TextBlob is first by \"blobbing\" a string of text (aka, turning it from a string to a TextBlob object). This is done by passing the string as argument to the `TextBlob` function."
   ]
  },
  {
   "cell_type": "code",
   "execution_count": 2,
   "metadata": {},
   "outputs": [],
   "source": [
    "text = \"It is a truth universally acknowledged, that a single man in possession of a good fortune, must be in want of a wife.\""
   ]
  },
  {
   "cell_type": "code",
   "execution_count": 3,
   "metadata": {},
   "outputs": [],
   "source": [
    "pride_blob = TextBlob(text)"
   ]
  },
  {
   "cell_type": "code",
   "execution_count": 4,
   "metadata": {},
   "outputs": [
    {
     "data": {
      "text/plain": [
       "textblob.blob.TextBlob"
      ]
     },
     "execution_count": 4,
     "metadata": {},
     "output_type": "execute_result"
    }
   ],
   "source": [
    "type(pride_blob)"
   ]
  },
  {
   "cell_type": "markdown",
   "metadata": {},
   "source": [
    "# Using TextBlob to Tokenize Strings and Split Them Into Sentences\n",
    "\n",
    "Once a text is blobbed, we can start calling the special TextBlob methods on it. Note that TextBlob methods don't take arguments, and indeed don't even have the usual method syntax of being followed by `()` — which I personally find a bit ugly.\n",
    "\n",
    "Let's look at two to start with:\n",
    "- `blob.words`: This tokenizes the string, turning into words. We've been accomplishing this with Python's built-in `string.split()` for many weeks now, then doing some extra stuff like removing punctuation with regular expressions. TextBlob does it all in one fell swoop, and does a good job with it — although we get less control over the process, and I personally prefer our previous method (can you see why??). The object it returns behaves like a `list`.\n",
    "- `blob.sentences`: This returns all the sentences in a string. We've been accomplishing this with `string.split(\".\")`. This does exactly the same thing, from what I can tell; for instance, it isn't smart enough to also split on `?` or `!`, and it is just as confused by contractions like `per cent.`. The object it returns again behaves like a `list`'"
   ]
  },
  {
   "cell_type": "code",
   "execution_count": 5,
   "metadata": {},
   "outputs": [
    {
     "ename": "TypeError",
     "evalue": "'WordList' object is not callable",
     "output_type": "error",
     "traceback": [
      "\u001b[0;31m---------------------------------------------------------------------------\u001b[0m",
      "\u001b[0;31mTypeError\u001b[0m                                 Traceback (most recent call last)",
      "Input \u001b[0;32mIn [5]\u001b[0m, in \u001b[0;36m<cell line: 1>\u001b[0;34m()\u001b[0m\n\u001b[0;32m----> 1\u001b[0m \u001b[43mpride_blob\u001b[49m\u001b[38;5;241;43m.\u001b[39;49m\u001b[43mwords\u001b[49m\u001b[43m(\u001b[49m\u001b[43m)\u001b[49m\n",
      "\u001b[0;31mTypeError\u001b[0m: 'WordList' object is not callable"
     ]
    }
   ],
   "source": [
    "pride_blob.words()"
   ]
  },
  {
   "cell_type": "code",
   "execution_count": 6,
   "metadata": {},
   "outputs": [
    {
     "data": {
      "text/plain": [
       "WordList(['It', 'is', 'a', 'truth', 'universally', 'acknowledged', 'that', 'a', 'single', 'man', 'in', 'possession', 'of', 'a', 'good', 'fortune', 'must', 'be', 'in', 'want', 'of', 'a', 'wife'])"
      ]
     },
     "execution_count": 6,
     "metadata": {},
     "output_type": "execute_result"
    }
   ],
   "source": [
    "pride_blob.words"
   ]
  },
  {
   "cell_type": "code",
   "execution_count": 7,
   "metadata": {},
   "outputs": [
    {
     "data": {
      "text/plain": [
       "textblob.blob.WordList"
      ]
     },
     "execution_count": 7,
     "metadata": {},
     "output_type": "execute_result"
    }
   ],
   "source": [
    "type(pride_blob.words)"
   ]
  },
  {
   "cell_type": "code",
   "execution_count": 8,
   "metadata": {},
   "outputs": [
    {
     "data": {
      "text/plain": [
       "'It'"
      ]
     },
     "execution_count": 8,
     "metadata": {},
     "output_type": "execute_result"
    }
   ],
   "source": [
    "pride_blob.words[0]"
   ]
  },
  {
   "cell_type": "code",
   "execution_count": 9,
   "metadata": {},
   "outputs": [
    {
     "name": "stdout",
     "output_type": "stream",
     "text": [
      "IT\n",
      "IS\n",
      "A\n",
      "TRUTH\n",
      "UNIVERSALLY\n",
      "ACKNOWLEDGED\n",
      "THAT\n",
      "A\n",
      "SINGLE\n",
      "MAN\n",
      "IN\n",
      "POSSESSION\n",
      "OF\n",
      "A\n",
      "GOOD\n",
      "FORTUNE\n",
      "MUST\n",
      "BE\n",
      "IN\n",
      "WANT\n",
      "OF\n",
      "A\n",
      "WIFE\n"
     ]
    }
   ],
   "source": [
    "for word in pride_blob.words:\n",
    "    print(word.upper())"
   ]
  },
  {
   "cell_type": "code",
   "execution_count": 10,
   "metadata": {},
   "outputs": [],
   "source": [
    "sot4 = open(\"sign-of-four.txt\", encoding=\"utf-8\").read()"
   ]
  },
  {
   "cell_type": "code",
   "execution_count": 14,
   "metadata": {},
   "outputs": [
    {
     "ename": "AttributeError",
     "evalue": "'str' object has no attribute 'words'",
     "output_type": "error",
     "traceback": [
      "\u001b[0;31m---------------------------------------------------------------------------\u001b[0m",
      "\u001b[0;31mAttributeError\u001b[0m                            Traceback (most recent call last)",
      "Input \u001b[0;32mIn [14]\u001b[0m, in \u001b[0;36m<cell line: 1>\u001b[0;34m()\u001b[0m\n\u001b[0;32m----> 1\u001b[0m \u001b[43msot4\u001b[49m\u001b[38;5;241;43m.\u001b[39;49m\u001b[43mwords\u001b[49m\n",
      "\u001b[0;31mAttributeError\u001b[0m: 'str' object has no attribute 'words'"
     ]
    }
   ],
   "source": [
    "sot4.words"
   ]
  },
  {
   "cell_type": "code",
   "execution_count": 12,
   "metadata": {},
   "outputs": [],
   "source": [
    "sot4_blob = TextBlob(sot4)"
   ]
  },
  {
   "cell_type": "code",
   "execution_count": 13,
   "metadata": {},
   "outputs": [
    {
     "data": {
      "text/plain": [
       "textblob.blob.TextBlob"
      ]
     },
     "execution_count": 13,
     "metadata": {},
     "output_type": "execute_result"
    }
   ],
   "source": [
    "type(sot4_blob)"
   ]
  },
  {
   "cell_type": "code",
   "execution_count": 15,
   "metadata": {},
   "outputs": [
    {
     "data": {
      "text/plain": [
       "WordList(['“', 'Which', 'is', 'it', 'to-day', '”', 'I', 'asked', '—', '“', 'morphine', 'or', 'cocaine', '”'])"
      ]
     },
     "execution_count": 15,
     "metadata": {},
     "output_type": "execute_result"
    }
   ],
   "source": [
    "sot4_blob.words[255:269]"
   ]
  },
  {
   "cell_type": "code",
   "execution_count": 16,
   "metadata": {},
   "outputs": [
    {
     "data": {
      "text/plain": [
       "45621"
      ]
     },
     "execution_count": 16,
     "metadata": {},
     "output_type": "execute_result"
    }
   ],
   "source": [
    "len(sot4_blob.words)"
   ]
  },
  {
   "cell_type": "code",
   "execution_count": 17,
   "metadata": {},
   "outputs": [
    {
     "data": {
      "text/plain": [
       "[Sentence(\"“Which is it to-day?” I asked,—“morphine or cocaine?”\n",
       " \n",
       " He raised his eyes languidly from the old black-letter volume which he had opened.\"),\n",
       " Sentence(\"“It is cocaine,” he said,—“a seven-per-cent.\"),\n",
       " Sentence(\"solution.\"),\n",
       " Sentence(\"Would you care to try it?”\n",
       " \n",
       " “No, indeed,” I answered, brusquely.\"),\n",
       " Sentence(\"“My constitution has not got over the Afghan campaign yet.\"),\n",
       " Sentence(\"I cannot afford to throw any extra strain upon it.”\n",
       " \n",
       " He smiled at my vehemence.\"),\n",
       " Sentence(\"“Perhaps you are right, Watson,” he said.\"),\n",
       " Sentence(\"“I suppose that its influence is physically a bad one.\"),\n",
       " Sentence(\"I find it, however, so transcendently stimulating and clarifying to the mind that its secondary action is a matter of small moment.”\n",
       " \n",
       " “But consider!” I said, earnestly.\"),\n",
       " Sentence(\"“Count the cost!\"),\n",
       " Sentence(\"Your brain may, as you say, be roused and excited, but it is a pathological and morbid process, which involves increased tissue-change and may at last leave a permanent weakness.\")]"
      ]
     },
     "execution_count": 17,
     "metadata": {},
     "output_type": "execute_result"
    }
   ],
   "source": [
    "sot4_blob.sentences[9:20]"
   ]
  },
  {
   "cell_type": "markdown",
   "metadata": {},
   "source": [
    "# TextBlob Word Counts... and Python Dictionaries\n",
    "\n",
    "TextBlob has another use method, `blob.word_counts`, which returns a list of the most commonly used terms in a document, along with a count for each of those words."
   ]
  },
  {
   "cell_type": "code",
   "execution_count": 18,
   "metadata": {},
   "outputs": [
    {
     "data": {
      "text/plain": [
       "defaultdict(int,\n",
       "            {'it': 1,\n",
       "             'is': 1,\n",
       "             'a': 4,\n",
       "             'truth': 1,\n",
       "             'universally': 1,\n",
       "             'acknowledged': 1,\n",
       "             'that': 1,\n",
       "             'single': 1,\n",
       "             'man': 1,\n",
       "             'in': 2,\n",
       "             'possession': 1,\n",
       "             'of': 2,\n",
       "             'good': 1,\n",
       "             'fortune': 1,\n",
       "             'must': 1,\n",
       "             'be': 1,\n",
       "             'want': 1,\n",
       "             'wife': 1})"
      ]
     },
     "execution_count": 18,
     "metadata": {},
     "output_type": "execute_result"
    }
   ],
   "source": [
    "pride_blob.word_counts"
   ]
  },
  {
   "cell_type": "code",
   "execution_count": 19,
   "metadata": {},
   "outputs": [
    {
     "data": {
      "text/plain": [
       "defaultdict(int,\n",
       "            {'chapter': 12,\n",
       "             'i': 1234,\n",
       "             'the': 2327,\n",
       "             'science': 2,\n",
       "             'of': 1121,\n",
       "             'deduction': 6,\n",
       "             'sherlock': 34,\n",
       "             'holmes': 133,\n",
       "             'took': 37,\n",
       "             'his': 478,\n",
       "             'bottle': 1,\n",
       "             'from': 161,\n",
       "             'corner': 16,\n",
       "             'mantel-piece': 1,\n",
       "             'and': 1176,\n",
       "             'hypodermic': 1,\n",
       "             'syringe': 1,\n",
       "             'its': 21,\n",
       "             'neat': 2,\n",
       "             'morocco': 1,\n",
       "             'case': 45,\n",
       "             'with': 383,\n",
       "             'long': 45,\n",
       "             'white': 37,\n",
       "             'nervous': 4,\n",
       "             'fingers': 3,\n",
       "             'he': 644,\n",
       "             'adjusted': 1,\n",
       "             'delicate': 4,\n",
       "             'needle': 1,\n",
       "             'rolled': 2,\n",
       "             'back': 63,\n",
       "             'left': 43,\n",
       "             'shirt-cuff': 1,\n",
       "             'for': 292,\n",
       "             'some': 108,\n",
       "             'little': 88,\n",
       "             'time': 69,\n",
       "             'eyes': 37,\n",
       "             'rested': 1,\n",
       "             'thoughtfully': 3,\n",
       "             'upon': 193,\n",
       "             'sinewy': 1,\n",
       "             'forearm': 1,\n",
       "             'wrist': 2,\n",
       "             'all': 186,\n",
       "             'dotted': 1,\n",
       "             'scarred': 2,\n",
       "             'innumerable': 3,\n",
       "             'puncture-marks': 1,\n",
       "             'finally': 12,\n",
       "             'thrust': 4,\n",
       "             'sharp': 10,\n",
       "             'point': 20,\n",
       "             'home': 13,\n",
       "             'pressed': 4,\n",
       "             'down': 94,\n",
       "             'tiny': 3,\n",
       "             'piston': 1,\n",
       "             'sank': 3,\n",
       "             'into': 93,\n",
       "             'velvet-lined': 1,\n",
       "             'arm-chair': 4,\n",
       "             'a': 1079,\n",
       "             'sigh': 1,\n",
       "             'satisfaction': 4,\n",
       "             'three': 36,\n",
       "             'times': 6,\n",
       "             'day': 39,\n",
       "             'many': 21,\n",
       "             'months': 5,\n",
       "             'had': 357,\n",
       "             'witnessed': 1,\n",
       "             'this': 221,\n",
       "             'performance': 1,\n",
       "             'but': 272,\n",
       "             'custom': 2,\n",
       "             'not': 212,\n",
       "             'reconciled': 1,\n",
       "             'my': 355,\n",
       "             'mind': 31,\n",
       "             'to': 1078,\n",
       "             'it': 696,\n",
       "             'on': 184,\n",
       "             'contrary': 5,\n",
       "             'become': 3,\n",
       "             'more': 76,\n",
       "             'irritable': 1,\n",
       "             'at': 346,\n",
       "             'sight': 9,\n",
       "             'conscience': 1,\n",
       "             'swelled': 1,\n",
       "             'nightly': 1,\n",
       "             'within': 18,\n",
       "             'me': 226,\n",
       "             'thought': 47,\n",
       "             'that': 624,\n",
       "             'lacked': 1,\n",
       "             'courage': 1,\n",
       "             'protest': 2,\n",
       "             'again': 38,\n",
       "             'registered': 1,\n",
       "             'vow': 1,\n",
       "             'should': 73,\n",
       "             'deliver': 1,\n",
       "             'soul': 9,\n",
       "             'subject': 5,\n",
       "             'there': 230,\n",
       "             'was': 573,\n",
       "             'in': 678,\n",
       "             'cool': 3,\n",
       "             'nonchalant': 1,\n",
       "             'air': 17,\n",
       "             'companion': 22,\n",
       "             'which': 238,\n",
       "             'made': 48,\n",
       "             'him': 212,\n",
       "             'last': 40,\n",
       "             'man': 142,\n",
       "             'whom': 16,\n",
       "             'one': 173,\n",
       "             'would': 133,\n",
       "             'care': 9,\n",
       "             'take': 34,\n",
       "             'anything': 28,\n",
       "             'approaching': 2,\n",
       "             'liberty': 2,\n",
       "             'great': 63,\n",
       "             'powers': 5,\n",
       "             'masterly': 1,\n",
       "             'manner': 11,\n",
       "             'experience': 4,\n",
       "             'extraordinary': 5,\n",
       "             'qualities': 5,\n",
       "             'diffident': 1,\n",
       "             'backward': 1,\n",
       "             'crossing': 2,\n",
       "             'yet': 37,\n",
       "             'afternoon': 3,\n",
       "             'whether': 11,\n",
       "             'beaune': 1,\n",
       "             'taken': 17,\n",
       "             'lunch': 1,\n",
       "             'or': 100,\n",
       "             'additional': 2,\n",
       "             'exasperation': 1,\n",
       "             'produced': 3,\n",
       "             'by': 133,\n",
       "             'extreme': 4,\n",
       "             'deliberation': 1,\n",
       "             'suddenly': 10,\n",
       "             'felt': 8,\n",
       "             'could': 143,\n",
       "             'hold': 8,\n",
       "             'out': 145,\n",
       "             'no': 193,\n",
       "             'longer': 3,\n",
       "             '“': 900,\n",
       "             'is': 460,\n",
       "             'to-day': 4,\n",
       "             '”': 796,\n",
       "             'asked': 27,\n",
       "             '—': 9,\n",
       "             'morphine': 1,\n",
       "             'cocaine': 4,\n",
       "             'raised': 3,\n",
       "             'languidly': 2,\n",
       "             'old': 41,\n",
       "             'black-letter': 1,\n",
       "             'volume': 4,\n",
       "             'opened': 12,\n",
       "             'said': 224,\n",
       "             'seven-per-cent': 1,\n",
       "             'solution': 3,\n",
       "             'you': 540,\n",
       "             'try': 8,\n",
       "             'indeed': 13,\n",
       "             'answered': 43,\n",
       "             'brusquely': 1,\n",
       "             'constitution': 3,\n",
       "             'has': 98,\n",
       "             'got': 33,\n",
       "             'over': 84,\n",
       "             'afghan': 1,\n",
       "             'campaign': 1,\n",
       "             'can': 117,\n",
       "             'afford': 2,\n",
       "             'throw': 7,\n",
       "             'any': 57,\n",
       "             'extra': 1,\n",
       "             'strain': 2,\n",
       "             'smiled': 5,\n",
       "             'vehemence': 1,\n",
       "             'perhaps': 14,\n",
       "             'are': 129,\n",
       "             'right': 31,\n",
       "             'watson': 23,\n",
       "             'suppose': 14,\n",
       "             'influence': 2,\n",
       "             'physically': 1,\n",
       "             'bad': 11,\n",
       "             'find': 26,\n",
       "             'however': 79,\n",
       "             'so': 154,\n",
       "             'transcendently': 1,\n",
       "             'stimulating': 1,\n",
       "             'clarifying': 1,\n",
       "             'secondary': 2,\n",
       "             'action': 3,\n",
       "             'matter': 38,\n",
       "             'small': 86,\n",
       "             'moment': 27,\n",
       "             'consider': 6,\n",
       "             'earnestly': 5,\n",
       "             'count': 1,\n",
       "             'cost': 3,\n",
       "             'your': 107,\n",
       "             'brain': 1,\n",
       "             'may': 70,\n",
       "             'as': 326,\n",
       "             'say': 39,\n",
       "             'be': 261,\n",
       "             'roused': 2,\n",
       "             'excited': 6,\n",
       "             'pathological': 1,\n",
       "             'morbid': 1,\n",
       "             'process': 1,\n",
       "             'involves': 1,\n",
       "             'increased': 2,\n",
       "             'tissue-change': 1,\n",
       "             'leave': 14,\n",
       "             'permanent': 1,\n",
       "             'weakness': 2,\n",
       "             'know': 69,\n",
       "             'too': 36,\n",
       "             'what': 119,\n",
       "             'black': 31,\n",
       "             'reaction': 4,\n",
       "             'comes': 10,\n",
       "             'surely': 13,\n",
       "             'game': 4,\n",
       "             'hardly': 26,\n",
       "             'worth': 7,\n",
       "             'candle': 3,\n",
       "             'why': 21,\n",
       "             'mere': 14,\n",
       "             'passing': 5,\n",
       "             'pleasure': 6,\n",
       "             'risk': 3,\n",
       "             'loss': 3,\n",
       "             'those': 20,\n",
       "             'have': 343,\n",
       "             'been': 127,\n",
       "             'endowed': 2,\n",
       "             'remember': 13,\n",
       "             'speak': 8,\n",
       "             'only': 65,\n",
       "             'comrade': 2,\n",
       "             'another': 13,\n",
       "             'medical': 1,\n",
       "             'whose': 2,\n",
       "             'extent': 2,\n",
       "             'answerable': 1,\n",
       "             'did': 49,\n",
       "             'seem': 7,\n",
       "             'offended': 1,\n",
       "             'put': 37,\n",
       "             'finger-tips': 1,\n",
       "             'together': 21,\n",
       "             'leaned': 7,\n",
       "             'elbows': 1,\n",
       "             'arms': 7,\n",
       "             'chair': 13,\n",
       "             'like': 59,\n",
       "             'who': 79,\n",
       "             'relish': 1,\n",
       "             'conversation': 3,\n",
       "             'rebels': 5,\n",
       "             'stagnation': 1,\n",
       "             'give': 32,\n",
       "             'problems': 1,\n",
       "             'work': 32,\n",
       "             'most': 34,\n",
       "             'abstruse': 2,\n",
       "             'cryptogram': 1,\n",
       "             'intricate': 1,\n",
       "             'analysis': 4,\n",
       "             'am': 65,\n",
       "             'own': 31,\n",
       "             'proper': 5,\n",
       "             'atmosphere': 2,\n",
       "             'dispense': 2,\n",
       "             'then': 97,\n",
       "             'artificial': 1,\n",
       "             'stimulants': 1,\n",
       "             'abhor': 1,\n",
       "             'dull': 8,\n",
       "             'routine': 1,\n",
       "             'existence': 4,\n",
       "             'crave': 1,\n",
       "             'mental': 1,\n",
       "             'exaltation': 2,\n",
       "             'chosen': 2,\n",
       "             'particular': 6,\n",
       "             'profession': 1,\n",
       "             '—or': 2,\n",
       "             'rather': 25,\n",
       "             'created': 1,\n",
       "             'world': 9,\n",
       "             'unofficial': 4,\n",
       "             'detective': 13,\n",
       "             'raising': 3,\n",
       "             'eyebrows': 4,\n",
       "             'consulting': 2,\n",
       "             'highest': 3,\n",
       "             'court': 1,\n",
       "             'appeal': 2,\n",
       "             'detection': 3,\n",
       "             'when': 95,\n",
       "             'gregson': 1,\n",
       "             'lestrade': 1,\n",
       "             'athelney': 18,\n",
       "             'jones': 44,\n",
       "             'their': 63,\n",
       "             'depths—which': 1,\n",
       "             'way': 63,\n",
       "             'normal': 2,\n",
       "             'state—the': 1,\n",
       "             'laid': 4,\n",
       "             'before': 41,\n",
       "             'examine': 2,\n",
       "             'data': 5,\n",
       "             'an': 146,\n",
       "             'expert': 2,\n",
       "             'pronounce': 1,\n",
       "             'specialist': 1,\n",
       "             '’': 418,\n",
       "             's': 163,\n",
       "             'opinion': 7,\n",
       "             'claim': 4,\n",
       "             'credit': 7,\n",
       "             'such': 36,\n",
       "             'cases': 8,\n",
       "             'name': 24,\n",
       "             'figures': 5,\n",
       "             'newspaper': 2,\n",
       "             'itself': 10,\n",
       "             'finding': 5,\n",
       "             'field': 3,\n",
       "             'peculiar': 8,\n",
       "             'reward': 3,\n",
       "             'yourself': 9,\n",
       "             'methods': 5,\n",
       "             'jefferson': 3,\n",
       "             'hope': 15,\n",
       "             'yes': 30,\n",
       "             'cordially': 1,\n",
       "             'never': 60,\n",
       "             'struck': 13,\n",
       "             'life': 23,\n",
       "             'even': 29,\n",
       "             'embodied': 1,\n",
       "             'brochure': 1,\n",
       "             'somewhat': 8,\n",
       "             'fantastic': 3,\n",
       "             'title': 1,\n",
       "             '‘': 111,\n",
       "             'study': 4,\n",
       "             'scarlet': 2,\n",
       "             'shook': 8,\n",
       "             'head': 33,\n",
       "             'sadly': 2,\n",
       "             'glanced': 7,\n",
       "             'honestly': 1,\n",
       "             'congratulate': 3,\n",
       "             'ought': 6,\n",
       "             'exact': 4,\n",
       "             'treated': 4,\n",
       "             'same': 28,\n",
       "             'cold': 11,\n",
       "             'unemotional': 1,\n",
       "             'attempted': 1,\n",
       "             'tinge': 1,\n",
       "             'romanticism': 1,\n",
       "             'produces': 1,\n",
       "             'much': 49,\n",
       "             'effect': 4,\n",
       "             'if': 144,\n",
       "             'worked': 5,\n",
       "             'love-story': 1,\n",
       "             'elopement': 1,\n",
       "             'fifth': 3,\n",
       "             'proposition': 1,\n",
       "             'euclid': 1,\n",
       "             'romance': 2,\n",
       "             'remonstrated': 1,\n",
       "             'tamper': 1,\n",
       "             'facts': 16,\n",
       "             'suppressed': 1,\n",
       "             'least': 9,\n",
       "             'just': 45,\n",
       "             'sense': 4,\n",
       "             'proportion': 1,\n",
       "             'observed': 6,\n",
       "             'treating': 1,\n",
       "             'them': 82,\n",
       "             'deserved': 1,\n",
       "             'mention': 2,\n",
       "             'curious': 13,\n",
       "             'analytical': 2,\n",
       "             'reasoning': 6,\n",
       "             'effects': 2,\n",
       "             'causes': 2,\n",
       "             'succeeded': 2,\n",
       "             'unraveling': 1,\n",
       "             'annoyed': 2,\n",
       "             'criticism': 1,\n",
       "             'specially': 2,\n",
       "             'designed': 1,\n",
       "             'please': 3,\n",
       "             'confess': 8,\n",
       "             'irritated': 1,\n",
       "             'egotism': 1,\n",
       "             'seemed': 20,\n",
       "             'demand': 2,\n",
       "             'every': 39,\n",
       "             'line': 9,\n",
       "             'pamphlet': 1,\n",
       "             'devoted': 3,\n",
       "             'special': 2,\n",
       "             'doings': 1,\n",
       "             'than': 58,\n",
       "             'once': 28,\n",
       "             'during': 7,\n",
       "             'years': 22,\n",
       "             'lived': 8,\n",
       "             'baker': 10,\n",
       "             'street': 24,\n",
       "             'vanity': 1,\n",
       "             'underlay': 1,\n",
       "             'quiet': 4,\n",
       "             'didactic': 1,\n",
       "             'remark': 3,\n",
       "             'sat': 24,\n",
       "             'nursing': 1,\n",
       "             'wounded': 1,\n",
       "             'leg': 18,\n",
       "             'jezail': 1,\n",
       "             'bullet': 2,\n",
       "             'through': 54,\n",
       "             'though': 37,\n",
       "             'prevent': 2,\n",
       "             'walking': 5,\n",
       "             'ached': 1,\n",
       "             'wearily': 1,\n",
       "             'change': 8,\n",
       "             'weather': 2,\n",
       "             'practice': 1,\n",
       "             'extended': 1,\n",
       "             'recently': 3,\n",
       "             'continent': 1,\n",
       "             'after': 33,\n",
       "             'while': 29,\n",
       "             'filling': 1,\n",
       "             'up': 135,\n",
       "             'brier-root': 1,\n",
       "             'pipe': 9,\n",
       "             'consulted': 1,\n",
       "             'week': 5,\n",
       "             'françois': 1,\n",
       "             'le': 2,\n",
       "             'villard': 1,\n",
       "             'probably': 5,\n",
       "             'come': 63,\n",
       "             'front': 12,\n",
       "             'lately': 2,\n",
       "             'french': 4,\n",
       "             'service': 6,\n",
       "             'celtic': 1,\n",
       "             'power': 5,\n",
       "             'quick': 8,\n",
       "             'intuition': 2,\n",
       "             'deficient': 1,\n",
       "             'wide': 3,\n",
       "             'range': 1,\n",
       "             'knowledge': 7,\n",
       "             'essential': 1,\n",
       "             'higher': 2,\n",
       "             'developments': 1,\n",
       "             'art': 2,\n",
       "             'concerned': 5,\n",
       "             'will': 95,\n",
       "             'possessed': 2,\n",
       "             'features': 9,\n",
       "             'interest': 9,\n",
       "             'able': 14,\n",
       "             'refer': 2,\n",
       "             'two': 67,\n",
       "             'parallel': 3,\n",
       "             'riga': 1,\n",
       "             '1857': 1,\n",
       "             'other': 75,\n",
       "             'st': 2,\n",
       "             'louis': 1,\n",
       "             '1871': 1,\n",
       "             'suggested': 3,\n",
       "             'true': 12,\n",
       "             'here': 91,\n",
       "             'letter': 12,\n",
       "             'morning': 13,\n",
       "             'acknowledging': 1,\n",
       "             'assistance': 6,\n",
       "             'tossed': 2,\n",
       "             'spoke': 14,\n",
       "             'crumpled': 1,\n",
       "             'sheet': 4,\n",
       "             'foreign': 1,\n",
       "             'notepaper': 1,\n",
       "             'catching': 2,\n",
       "             'profusion': 1,\n",
       "             'notes': 4,\n",
       "             'admiration': 2,\n",
       "             'stray': 1,\n",
       "             'magnifiques': 1,\n",
       "             'coup-de-maîtres': 1,\n",
       "             'tours-de-force': 1,\n",
       "             'testifying': 1,\n",
       "             'ardent': 1,\n",
       "             'frenchman': 1,\n",
       "             'speaks': 2,\n",
       "             'pupil': 1,\n",
       "             'master': 7,\n",
       "             'oh': 12,\n",
       "             'rates': 1,\n",
       "             'highly': 2,\n",
       "             'lightly': 2,\n",
       "             'considerable': 7,\n",
       "             'gifts': 2,\n",
       "             'himself': 28,\n",
       "             'possesses': 1,\n",
       "             'necessary': 1,\n",
       "             'ideal': 1,\n",
       "             'observation': 8,\n",
       "             'wanting': 1,\n",
       "             'now': 96,\n",
       "             'translating': 1,\n",
       "             'works': 3,\n",
       "             'didn': 5,\n",
       "             't': 60,\n",
       "             'cried': 22,\n",
       "             'laughing': 5,\n",
       "             'guilty': 1,\n",
       "             'several': 5,\n",
       "             'monographs': 1,\n",
       "             'they': 124,\n",
       "             'technical': 2,\n",
       "             'subjects': 2,\n",
       "             'example': 6,\n",
       "             'distinction': 2,\n",
       "             'between': 28,\n",
       "             'ashes': 1,\n",
       "             'various': 1,\n",
       "             'tobaccoes': 1,\n",
       "             'enumerate': 1,\n",
       "             'hundred': 14,\n",
       "             'forty': 2,\n",
       "             'forms': 2,\n",
       "             'cigar': 6,\n",
       "             'cigarette': 1,\n",
       "             'pipe-tobacco': 1,\n",
       "             'coloured': 4,\n",
       "             'plates': 1,\n",
       "             'illustrating': 1,\n",
       "             'difference': 5,\n",
       "             'ash': 2,\n",
       "             'continually': 1,\n",
       "             'turning': 7,\n",
       "             'criminal': 4,\n",
       "             'trials': 1,\n",
       "             'sometimes': 6,\n",
       "             'supreme': 2,\n",
       "             'importance': 10,\n",
       "             'clue': 9,\n",
       "             'definitely': 1,\n",
       "             'murder': 10,\n",
       "             'done': 28,\n",
       "             'smoking': 5,\n",
       "             'indian': 17,\n",
       "             'lunkah': 1,\n",
       "             'obviously': 1,\n",
       "             'narrows': 1,\n",
       "             'search': 4,\n",
       "             'trained': 5,\n",
       "             'eye': 7,\n",
       "             'trichinopoly': 1,\n",
       "             'fluff': 1,\n",
       "             'bird': 2,\n",
       "             's-eye': 2,\n",
       "             'cabbage': 1,\n",
       "             'potato': 1,\n",
       "             'genius': 3,\n",
       "             'minutiæ': 1,\n",
       "             'remarked': 18,\n",
       "             'appreciate': 1,\n",
       "             'monograph': 1,\n",
       "             'tracing': 1,\n",
       "             'footsteps': 5,\n",
       "             'remarks': 2,\n",
       "             'uses': 1,\n",
       "             'plaster': 3,\n",
       "             'paris': 1,\n",
       "             'preserver': 1,\n",
       "             'impresses': 1,\n",
       "             'trade': 1,\n",
       "             'form': 2,\n",
       "             'hand': 54,\n",
       "             'lithotypes': 1,\n",
       "             'hands': 26,\n",
       "             'slaters': 1,\n",
       "             'sailors': 1,\n",
       "             'corkcutters': 1,\n",
       "             'compositors': 1,\n",
       "             'weavers': 1,\n",
       "             'diamond-polishers': 1,\n",
       "             'practical': 2,\n",
       "             'scientific': 2,\n",
       "             '—especially': 2,\n",
       "             'unclaimed': 1,\n",
       "             'bodies': 1,\n",
       "             'discovering': 3,\n",
       "             'antecedents': 1,\n",
       "             'criminals': 3,\n",
       "             'weary': 8,\n",
       "             'hobby': 1,\n",
       "             'greatest': 3,\n",
       "             'especially': 3,\n",
       "             'since': 24,\n",
       "             'opportunity': 1,\n",
       "             'observing': 1,\n",
       "             'application': 1,\n",
       "             'implies': 1,\n",
       "             'leaning': 2,\n",
       "             'luxuriously': 1,\n",
       "             'sending': 3,\n",
       "             'thick': 11,\n",
       "             'blue': 4,\n",
       "             'wreaths': 1,\n",
       "             'shows': 3,\n",
       "             'wigmore': 2,\n",
       "             'post-office': 3,\n",
       "             'lets': 1,\n",
       "             'dispatched': 1,\n",
       "             'telegram': 3,\n",
       "             'both': 15,\n",
       "             'points': 2,\n",
       "             'don': 37,\n",
       "             'see': 103,\n",
       "             'how': 69,\n",
       "             'arrived': 5,\n",
       "             'sudden': 3,\n",
       "             'impulse': 2,\n",
       "             'part': 21,\n",
       "             'mentioned': 2,\n",
       "             'simplicity': 3,\n",
       "             'chuckling': 1,\n",
       "             'surprise': 8,\n",
       "             'absurdly': 1,\n",
       "             'simple': 9,\n",
       "             'explanation': 4,\n",
       "             'superfluous': 1,\n",
       "             'serve': 6,\n",
       "             'define': 1,\n",
       "             'limits': 1,\n",
       "             'tells': 2,\n",
       "             'reddish': 2,\n",
       "             'mould': 2,\n",
       "             'adhering': 1,\n",
       "             'instep': 1,\n",
       "             'opposite': 9,\n",
       "             'office': 1,\n",
       "             'pavement': 3,\n",
       "             'thrown': 9,\n",
       "             'earth': 7,\n",
       "             'lies': 9,\n",
       "             'difficult': 3,\n",
       "             'avoid': 1,\n",
       "             'treading': 1,\n",
       "             'entering': 2,\n",
       "             'tint': 1,\n",
       "             'found': 48,\n",
       "             'far': 27,\n",
       "             'nowhere': 1,\n",
       "             'else': 22,\n",
       "             'neighbourhood': 2,\n",
       "             'rest': 6,\n",
       "             'deduce': 2,\n",
       "             'course': 27,\n",
       "             'knew': 27,\n",
       "             'written': 4,\n",
       "             'also': 10,\n",
       "             'open': 23,\n",
       "             'desk': 4,\n",
       "             'stamps': 1,\n",
       "             'bundle': 4,\n",
       "             'post-cards': 1,\n",
       "             'go': 42,\n",
       "             'send': 10,\n",
       "             'wire': 7,\n",
       "             'eliminate': 1,\n",
       "             'factors': 1,\n",
       "             'remains': 7,\n",
       "             'must': 68,\n",
       "             'truth': 12,\n",
       "             'certainly': 14,\n",
       "             'replied': 1,\n",
       "             'thing': 29,\n",
       "             'simplest': 1,\n",
       "             'think': 65,\n",
       "             'impertinent': 1,\n",
       "             'were': 156,\n",
       "             'theories': 4,\n",
       "             'severe': 1,\n",
       "             'test': 5,\n",
       "             'taking': 15,\n",
       "             'second': 9,\n",
       "             'dose': 1,\n",
       "             'delighted': 4,\n",
       "             'look': 41,\n",
       "             'problem': 9,\n",
       "             'might': 53,\n",
       "             'submit': 1,\n",
       "             'heard': 29,\n",
       "             'object': 3,\n",
       "             'daily': 2,\n",
       "             'use': 17,\n",
       "             'without': 21,\n",
       "             'leaving': 4,\n",
       "             'impress': 1,\n",
       "             'individuality': 2,\n",
       "             'observer': 1,\n",
       "             'read': 12,\n",
       "             'watch': 21,\n",
       "             'possession': 6,\n",
       "             'kindness': 5,\n",
       "             'let': 36,\n",
       "             'character': 7,\n",
       "             'habits': 4,\n",
       "             'late': 9,\n",
       "             'owner': 4,\n",
       "             'handed': 11,\n",
       "             'slight': 4,\n",
       "             'feeling': 5,\n",
       "             'amusement': 2,\n",
       "             'heart': 27,\n",
       "             'impossible': 5,\n",
       "             'intended': 1,\n",
       "             'lesson': 1,\n",
       "             'against': 27,\n",
       "             'dogmatic': 1,\n",
       "             'tone': 2,\n",
       "             'occasionally': 3,\n",
       "             'assumed': 2,\n",
       "             'balanced': 1,\n",
       "             'gazed': 2,\n",
       "             'hard': 11,\n",
       "             'dial': 1,\n",
       "             'examined': 3,\n",
       "             'first': 41,\n",
       "             'naked': 7,\n",
       "             'powerful': 5,\n",
       "             'convex': 1,\n",
       "             'lens': 6,\n",
       "             'keep': 18,\n",
       "             'smiling': 3,\n",
       "             'crestfallen': 2,\n",
       "             'face': 50,\n",
       "             'snapped': 2,\n",
       "             'cleaned': 2,\n",
       "             'robs': 1,\n",
       "             'suggestive': 3,\n",
       "             'being': 13,\n",
       "             'sent': 5,\n",
       "             'accused': 2,\n",
       "             'putting': 7,\n",
       "             'forward': 9,\n",
       "             'lame': 1,\n",
       "             'impotent': 2,\n",
       "             'excuse': 6,\n",
       "             'cover': 5,\n",
       "             'failure': 1,\n",
       "             'expect': 7,\n",
       "             'uncleaned': 1,\n",
       "             'unsatisfactory': 1,\n",
       "             'research': 1,\n",
       "             'entirely': 5,\n",
       "             'barren': 1,\n",
       "             'staring': 2,\n",
       "             'ceiling': 4,\n",
       "             'dreamy': 2,\n",
       "             'lack-lustre': 1,\n",
       "             'correction': 1,\n",
       "             'judge': 4,\n",
       "             'belonged': 2,\n",
       "             'elder': 1,\n",
       "             'brother': 33,\n",
       "             'inherited': 2,\n",
       "             'father': 32,\n",
       "             'gather': 3,\n",
       "             'doubt': 12,\n",
       "             'h': 1,\n",
       "             'w': 2,\n",
       "             'quite': 26,\n",
       "             'suggests': 2,\n",
       "             'date': 4,\n",
       "             'nearly': 11,\n",
       "             'fifty': 4,\n",
       "             'initials': 1,\n",
       "             'generation': 1,\n",
       "             'jewelry': 2,\n",
       "             'usually': 4,\n",
       "             'descends': 1,\n",
       "             'eldest': 3,\n",
       "             'son': 5,\n",
       "             'likely': 9,\n",
       "             'dead': 18,\n",
       "             'therefore': 11,\n",
       "             'untidy': 2,\n",
       "             '—very': 1,\n",
       "             'careless': 5,\n",
       "             'good': 41,\n",
       "             'prospects': 1,\n",
       "             'threw': 12,\n",
       "             'away': 34,\n",
       "             'chances': 2,\n",
       "             'poverty': 2,\n",
       "             'occasional': 4,\n",
       "             'short': 14,\n",
       "             'intervals': 3,\n",
       "             'prosperity': 2,\n",
       "             'drink': 2,\n",
       "             'died': 11,\n",
       "             'sprang': 9,\n",
       "             'limped': 1,\n",
       "             'impatiently': 1,\n",
       "             'about': 81,\n",
       "             'room': 41,\n",
       "             'bitterness': 1,\n",
       "             'unworthy': 1,\n",
       "             'believed': 2,\n",
       "             'descended': 1,\n",
       "             'inquires': 1,\n",
       "             'history': 1,\n",
       "             'unhappy': 2,\n",
       "             'pretend': 1,\n",
       "             'fanciful': 1,\n",
       "             'believe': 10,\n",
       "             'unkind': 1,\n",
       "             'plainly': 3,\n",
       "             'touch': 6,\n",
       "             'charlatanism': 1,\n",
       "             'dear': 11,\n",
       "             'doctor': 6,\n",
       "             'kindly': 7,\n",
       "             'pray': 5,\n",
       "             'accept': 2,\n",
       "             'apologies': 1,\n",
       "             'viewing': 1,\n",
       "             'abstract': 2,\n",
       "             'forgotten': 3,\n",
       "             'personal': 3,\n",
       "             'painful': 1,\n",
       "             'assure': 3,\n",
       "             'until': 23,\n",
       "             'wonderful': 3,\n",
       "             'get': 33,\n",
       "             'these': 32,\n",
       "             'absolutely': 4,\n",
       "             'correct': 3,\n",
       "             'ah': 18,\n",
       "             'luck': 11,\n",
       "             'balance': 3,\n",
       "             'probability': 3,\n",
       "             'accurate': 1,\n",
       "             'guess-work': 1,\n",
       "             'guess': 1,\n",
       "             'shocking': 1,\n",
       "             'habit': 2,\n",
       "             '—destructive': 1,\n",
       "             'logical': 1,\n",
       "             'faculty': 2,\n",
       "             'seems': 10,\n",
       "             'strange': 23,\n",
       "             'because': 16,\n",
       "             'do': 82,\n",
       "             'follow': 6,\n",
       "             'train': 2,\n",
       "             'observe': 6,\n",
       "             'large': 13,\n",
       "             'inferences': 2,\n",
       "             'depend': 2,\n",
       "             'began': 5,\n",
       "             'stating': 2,\n",
       "             'lower': 7,\n",
       "             'watch-case': 1,\n",
       "             'notice': 10,\n",
       "             'dinted': 1,\n",
       "             'places': 5,\n",
       "             'cut': 8,\n",
       "             'marked': 5,\n",
       "             'keeping': 2,\n",
       "             'objects': 1,\n",
       "             'coins': 1,\n",
       "             'keys': 2,\n",
       "             'pocket': 8,\n",
       "             'feat': 1,\n",
       "             'assume': 1,\n",
       "             'treats': 1,\n",
       "             'fifty-guinea': 1,\n",
       "             'cavalierly': 1,\n",
       "             'neither': 5,\n",
       "             'very': 109,\n",
       "             'far-fetched': 1,\n",
       "             'inference': 4,\n",
       "             'inherits': 1,\n",
       "             'article': 1,\n",
       "             'value': 8,\n",
       "             'pretty': 22,\n",
       "             'well': 85,\n",
       "             'provided': 2,\n",
       "             'respects': 1,\n",
       "             'nodded': 3,\n",
       "             'show': 11,\n",
       "             'followed': 16,\n",
       "             'customary': 1,\n",
       "             'pawnbrokers': 1,\n",
       "             'england': 12,\n",
       "             'scratch': 1,\n",
       "             'number': 7,\n",
       "             'ticket': 1,\n",
       "             'pin-point': 1,\n",
       "             'inside': 10,\n",
       "             'handy': 2,\n",
       "             'label': 1,\n",
       "             'lost': 15,\n",
       "             'transposed': 1,\n",
       "             'less': 6,\n",
       "             'four': 26,\n",
       "             'numbers': 1,\n",
       "             'visible': 4,\n",
       "             '—that': 7,\n",
       "             'often': 8,\n",
       "             'low': 7,\n",
       "             'water': 19,\n",
       "             'bursts': 1,\n",
       "             'redeemed': 1,\n",
       "             'pledge': 1,\n",
       "             'ask': 17,\n",
       "             'inner': 5,\n",
       "             'plate': 1,\n",
       "             'contains': 2,\n",
       "             'key-hole': 2,\n",
       "             'thousands': 1,\n",
       "             'scratches': 1,\n",
       "             'round': 41,\n",
       "             'hole': 13,\n",
       "             '—marks': 1,\n",
       "             'where': 60,\n",
       "             'key': 10,\n",
       "             'slipped': 4,\n",
       "             'sober': 1,\n",
       "             'scored': 1,\n",
       "             'grooves': 1,\n",
       "             'drunkard': 1,\n",
       "             'winds': 1,\n",
       "             'night': 68,\n",
       "             'leaves': 3,\n",
       "             'traces': 5,\n",
       "             'unsteady': 1,\n",
       "             'mystery': 10,\n",
       "             'clear': 19,\n",
       "             'daylight': 1,\n",
       "             'regret': 1,\n",
       "             'injustice': 2,\n",
       "             'faith': 2,\n",
       "             'marvellous': 1,\n",
       "             'professional': 4,\n",
       "             'inquiry': 2,\n",
       "             'foot': 16,\n",
       "             'present': 6,\n",
       "             'none': 17,\n",
       "             'hence': 1,\n",
       "             'live': 6,\n",
       "             'brain-work': 1,\n",
       "             'stand': 12,\n",
       "             'window': 32,\n",
       "             'ever': 30,\n",
       "             'dreary': 4,\n",
       "             'dismal': 2,\n",
       "             'unprofitable': 1,\n",
       "             'yellow': 12,\n",
       "             ...})"
      ]
     },
     "execution_count": 19,
     "metadata": {},
     "output_type": "execute_result"
    }
   ],
   "source": [
    "sot4_blob.word_counts"
   ]
  },
  {
   "cell_type": "markdown",
   "metadata": {},
   "source": [
    "Above, I called that a \"list\" of all the words in the strings, along with word counts... But in terms of the **Python data type** returned by the `blob.words_counts` method — well, that's not a `list` at all, but rather a **dictionary (`dict`)**... a data type we've been skirting around for a few weeks now.\n",
    "\n",
    "We used **dictionaries** in the Week 8 Supplemental Lecture to generate our `gender_signal` column, and you played around with them in the Week 8 lecture. But now it's time to properly meet them.\n",
    "\n",
    "## Python Dictionaries\n",
    "\n",
    "As [Melanie Walsh explains](https://melaniewalsh.github.io/Intro-Cultural-Analytics/02-Python/11-Dictionaries.html), dictionaries are mainly differentiated from `list`s by their use of **key-value pairs**. Whereas we access items in a list by their index position, we access the **values** of items in a dictionary by their **key**. \n",
    "\n",
    "Python dictionaries are always surrounded by curly brackets `{ }`. You can make a dictionary in this manner:\n",
    "\n",
    "```\n",
    "variable_name = {\n",
    "   'key1': value1,\n",
    "   'key2': value2,\n",
    "   'key3': value3,\n",
    "}\n",
    "```\n",
    "\n",
    "Note:\n",
    "- Keys are `string`s; values can be of any data type.\n",
    "- Note that a `,` comes between each key-value pair your define\n",
    "- You don't need to arrange things like this typographically, with key-values pairs each on their own line, but it does make things look prettier"
   ]
  },
  {
   "cell_type": "code",
   "execution_count": 20,
   "metadata": {},
   "outputs": [],
   "source": [
    "carnivores = {\n",
    "    'python': 'a large heavy-bodied nonvenomous snake that kills prey by constriction and asphyxiation',\n",
    "    'panda': 'a large bearlike mammal that, while technically a carnivore, is in practice a vegetarian, eating only bamboo',\n",
    "    'blob': 'amoeboidal alien that envelops living beings, asphyxiating them'\n",
    "}"
   ]
  },
  {
   "cell_type": "code",
   "execution_count": 21,
   "metadata": {},
   "outputs": [
    {
     "data": {
      "text/plain": [
       "dict"
      ]
     },
     "execution_count": 21,
     "metadata": {},
     "output_type": "execute_result"
    }
   ],
   "source": [
    "type(carnivores)"
   ]
  },
  {
   "cell_type": "code",
   "execution_count": 22,
   "metadata": {},
   "outputs": [
    {
     "data": {
      "text/plain": [
       "{'python': 'a large heavy-bodied nonvenomous snake that kills prey by constriction and asphyxiation',\n",
       " 'panda': 'a large bearlike mammal that, while technically a carnivore, is in practice a vegetarian, eating only bamboo',\n",
       " 'blob': 'amoeboidal alien that envelops living beings, asphyxiating them'}"
      ]
     },
     "execution_count": 22,
     "metadata": {},
     "output_type": "execute_result"
    }
   ],
   "source": [
    "carnivores"
   ]
  },
  {
   "cell_type": "code",
   "execution_count": 23,
   "metadata": {},
   "outputs": [],
   "source": [
    "carnivores = {'python': 'a large heavy-bodied nonvenomous snake that kills prey by constriction and asphyxiation','panda': 'a large bearlike mammal that, while technically a carnivore, is in practice a vegetarian, eating only bamboo','blob': 'amoeboidal alien that envelops living beings'}"
   ]
  },
  {
   "cell_type": "code",
   "execution_count": 24,
   "metadata": {},
   "outputs": [
    {
     "data": {
      "text/plain": [
       "{'python': 'a large heavy-bodied nonvenomous snake that kills prey by constriction and asphyxiation',\n",
       " 'panda': 'a large bearlike mammal that, while technically a carnivore, is in practice a vegetarian, eating only bamboo',\n",
       " 'blob': 'amoeboidal alien that envelops living beings'}"
      ]
     },
     "execution_count": 24,
     "metadata": {},
     "output_type": "execute_result"
    }
   ],
   "source": [
    "carnivores"
   ]
  },
  {
   "cell_type": "markdown",
   "metadata": {},
   "source": [
    "You can see all the keys in a dictionary by calling the `dict.keys()` method, all the values in a dictionary by calling the `dict.values()` method, and all the key-value pairs in a dictionary by calling `dict.items()`."
   ]
  },
  {
   "cell_type": "code",
   "execution_count": 25,
   "metadata": {},
   "outputs": [
    {
     "data": {
      "text/plain": [
       "dict_keys(['python', 'panda', 'blob'])"
      ]
     },
     "execution_count": 25,
     "metadata": {},
     "output_type": "execute_result"
    }
   ],
   "source": [
    "carnivores.keys()"
   ]
  },
  {
   "cell_type": "code",
   "execution_count": 26,
   "metadata": {},
   "outputs": [
    {
     "data": {
      "text/plain": [
       "dict_values(['a large heavy-bodied nonvenomous snake that kills prey by constriction and asphyxiation', 'a large bearlike mammal that, while technically a carnivore, is in practice a vegetarian, eating only bamboo', 'amoeboidal alien that envelops living beings'])"
      ]
     },
     "execution_count": 26,
     "metadata": {},
     "output_type": "execute_result"
    }
   ],
   "source": [
    "carnivores.values()"
   ]
  },
  {
   "cell_type": "code",
   "execution_count": 27,
   "metadata": {},
   "outputs": [
    {
     "data": {
      "text/plain": [
       "dict_items([('python', 'a large heavy-bodied nonvenomous snake that kills prey by constriction and asphyxiation'), ('panda', 'a large bearlike mammal that, while technically a carnivore, is in practice a vegetarian, eating only bamboo'), ('blob', 'amoeboidal alien that envelops living beings')])"
      ]
     },
     "execution_count": 27,
     "metadata": {},
     "output_type": "execute_result"
    }
   ],
   "source": [
    "carnivores.items()"
   ]
  },
  {
   "cell_type": "markdown",
   "metadata": {},
   "source": [
    "## Accessing Items in a Dictionary\n",
    "\n",
    "Similarly to the way that we access items in a list, we can access items in a dictionary with square brackets `[]` and the **key name** of the value we want to extract."
   ]
  },
  {
   "cell_type": "code",
   "execution_count": 28,
   "metadata": {},
   "outputs": [
    {
     "data": {
      "text/plain": [
       "'a large heavy-bodied nonvenomous snake that kills prey by constriction and asphyxiation'"
      ]
     },
     "execution_count": 28,
     "metadata": {},
     "output_type": "execute_result"
    }
   ],
   "source": [
    "carnivores['python']"
   ]
  },
  {
   "cell_type": "code",
   "execution_count": 29,
   "metadata": {},
   "outputs": [
    {
     "data": {
      "text/plain": [
       "'a large bearlike mammal that, while technically a carnivore, is in practice a vegetarian, eating only bamboo'"
      ]
     },
     "execution_count": 29,
     "metadata": {},
     "output_type": "execute_result"
    }
   ],
   "source": [
    "carnivores['panda']"
   ]
  },
  {
   "cell_type": "code",
   "execution_count": 30,
   "metadata": {},
   "outputs": [
    {
     "data": {
      "text/plain": [
       "'amoeboidal alien that envelops living beings'"
      ]
     },
     "execution_count": 30,
     "metadata": {},
     "output_type": "execute_result"
    }
   ],
   "source": [
    "carnivores['blob']"
   ]
  },
  {
   "cell_type": "code",
   "execution_count": 31,
   "metadata": {},
   "outputs": [
    {
     "ename": "KeyError",
     "evalue": "'tulip'",
     "output_type": "error",
     "traceback": [
      "\u001b[0;31m---------------------------------------------------------------------------\u001b[0m",
      "\u001b[0;31mKeyError\u001b[0m                                  Traceback (most recent call last)",
      "Input \u001b[0;32mIn [31]\u001b[0m, in \u001b[0;36m<cell line: 1>\u001b[0;34m()\u001b[0m\n\u001b[0;32m----> 1\u001b[0m \u001b[43mcarnivores\u001b[49m\u001b[43m[\u001b[49m\u001b[38;5;124;43m'\u001b[39;49m\u001b[38;5;124;43mtulip\u001b[39;49m\u001b[38;5;124;43m'\u001b[39;49m\u001b[43m]\u001b[49m\n",
      "\u001b[0;31mKeyError\u001b[0m: 'tulip'"
     ]
    }
   ],
   "source": [
    "carnivores['tulip']"
   ]
  },
  {
   "cell_type": "raw",
   "metadata": {},
   "source": []
  },
  {
   "cell_type": "code",
   "execution_count": null,
   "metadata": {},
   "outputs": [],
   "source": []
  },
  {
   "cell_type": "markdown",
   "metadata": {},
   "source": [
    "## Changing Values and Adding Key-Value Pairs\n",
    "\n",
    "This is accomplished as follows:"
   ]
  },
  {
   "cell_type": "code",
   "execution_count": 32,
   "metadata": {},
   "outputs": [],
   "source": [
    "carnivores['blob'] = \"a third-party Python library that slowly kills you by sucking up all of your time, because the textual analysis it facilitates is so fascinating\""
   ]
  },
  {
   "cell_type": "code",
   "execution_count": 33,
   "metadata": {},
   "outputs": [
    {
     "data": {
      "text/plain": [
       "'a third-party Python library that slowly kills you by sucking up all of your time, because the textual analysis it facilitates is so fascinating'"
      ]
     },
     "execution_count": 33,
     "metadata": {},
     "output_type": "execute_result"
    }
   ],
   "source": [
    "carnivores['blob']"
   ]
  },
  {
   "cell_type": "code",
   "execution_count": 34,
   "metadata": {},
   "outputs": [],
   "source": [
    "carnivores['kitten'] = \"a delightful, fuzzy creature whose natural prey is cat food (dry or wet) and, especially, treats\""
   ]
  },
  {
   "cell_type": "code",
   "execution_count": 35,
   "metadata": {},
   "outputs": [
    {
     "data": {
      "text/plain": [
       "'a delightful, fuzzy creature whose natural prey is cat food (dry or wet) and, especially, treats'"
      ]
     },
     "execution_count": 35,
     "metadata": {},
     "output_type": "execute_result"
    }
   ],
   "source": [
    "carnivores['kitten']"
   ]
  },
  {
   "cell_type": "code",
   "execution_count": 36,
   "metadata": {},
   "outputs": [
    {
     "data": {
      "text/plain": [
       "dict_values(['a large heavy-bodied nonvenomous snake that kills prey by constriction and asphyxiation', 'a large bearlike mammal that, while technically a carnivore, is in practice a vegetarian, eating only bamboo', 'a third-party Python library that slowly kills you by sucking up all of your time, because the textual analysis it facilitates is so fascinating', 'a delightful, fuzzy creature whose natural prey is cat food (dry or wet) and, especially, treats'])"
      ]
     },
     "execution_count": 36,
     "metadata": {},
     "output_type": "execute_result"
    }
   ],
   "source": [
    "carnivores.values()"
   ]
  },
  {
   "cell_type": "markdown",
   "metadata": {},
   "source": [
    "## Nested Dictionaries\n",
    "\n",
    "I said earlier that the value of a particular key could be any data type... and that includes a dictionary. Yes, you can have dictionaries within dictionaries. Indeed, that's how our name-gender count list works in the `gender_signal` task."
   ]
  },
  {
   "cell_type": "code",
   "execution_count": 37,
   "metadata": {},
   "outputs": [],
   "source": [
    "name_counts = {\n",
    "    'Adam': {'F': 0, 'M': 1},\n",
    "    'Marta': {'F': 1, 'M': 0},\n",
    "    'Rosie': {'F': 1, 'M': 0},\n",
    "    'Jazz': {'F': 1, 'M': 0}\n",
    "}"
   ]
  },
  {
   "cell_type": "code",
   "execution_count": 39,
   "metadata": {},
   "outputs": [
    {
     "data": {
      "text/plain": [
       "dict"
      ]
     },
     "execution_count": 39,
     "metadata": {},
     "output_type": "execute_result"
    }
   ],
   "source": [
    "type(name_counts['Jazz'])"
   ]
  },
  {
   "cell_type": "code",
   "execution_count": 40,
   "metadata": {},
   "outputs": [
    {
     "data": {
      "text/plain": [
       "1"
      ]
     },
     "execution_count": 40,
     "metadata": {},
     "output_type": "execute_result"
    }
   ],
   "source": [
    "name_counts['Jazz']['F']"
   ]
  },
  {
   "cell_type": "markdown",
   "metadata": {},
   "source": [
    "## Iterating Through Dictionaries\n",
    "\n",
    "You can iterate through dictionaries — but first you need to specify, by calling the appropriate method, if you want to iterate over keys, values, of key-value pairs."
   ]
  },
  {
   "cell_type": "code",
   "execution_count": 41,
   "metadata": {},
   "outputs": [
    {
     "name": "stdout",
     "output_type": "stream",
     "text": [
      "I am so afraid of PYTHONS!!!!\n",
      "I am so afraid of PANDAS!!!!\n",
      "I am so afraid of BLOBS!!!!\n",
      "I am so afraid of KITTENS!!!!\n"
     ]
    }
   ],
   "source": [
    "for key in carnivores.keys():\n",
    "    print(f\"I am so afraid of {key.upper()}S!!!!\")"
   ]
  },
  {
   "cell_type": "code",
   "execution_count": 42,
   "metadata": {},
   "outputs": [
    {
     "name": "stdout",
     "output_type": "stream",
     "text": [
      "Did you know there is a kind of carnivore that is a large heavy-bodied nonvenomous snake that kills prey by constriction and asphyxiation???\n",
      "Did you know there is a kind of carnivore that is a large bearlike mammal that, while technically a carnivore, is in practice a vegetarian, eating only bamboo???\n",
      "Did you know there is a kind of carnivore that is a third-party Python library that slowly kills you by sucking up all of your time, because the textual analysis it facilitates is so fascinating???\n",
      "Did you know there is a kind of carnivore that is a delightful, fuzzy creature whose natural prey is cat food (dry or wet) and, especially, treats???\n"
     ]
    }
   ],
   "source": [
    "for value in carnivores.values():\n",
    "    print(f\"Did you know there is a kind of carnivore that is {value}???\")"
   ]
  },
  {
   "cell_type": "code",
   "execution_count": 43,
   "metadata": {
    "scrolled": true
   },
   "outputs": [
    {
     "name": "stdout",
     "output_type": "stream",
     "text": [
      "A python is a large heavy-bodied nonvenomous snake that kills prey by constriction and asphyxiation\n",
      "A panda is a large bearlike mammal that, while technically a carnivore, is in practice a vegetarian, eating only bamboo\n",
      "A blob is a third-party Python library that slowly kills you by sucking up all of your time, because the textual analysis it facilitates is so fascinating\n",
      "A kitten is a delightful, fuzzy creature whose natural prey is cat food (dry or wet) and, especially, treats\n"
     ]
    }
   ],
   "source": [
    "for key, value in carnivores.items():\n",
    "    print(f\"A {key} is {value}\")"
   ]
  },
  {
   "cell_type": "markdown",
   "metadata": {},
   "source": [
    "## Back to `blob.word_counts`!\n",
    "\n",
    "So... as I said, TextBlob's `word_counts` method produces a dictionary-like object, in which each key is a unique word in the string, and each value is a count of how many times that word occurs in the string."
   ]
  },
  {
   "cell_type": "code",
   "execution_count": 44,
   "metadata": {},
   "outputs": [],
   "source": [
    "sot4_counts = sot4_blob.word_counts"
   ]
  },
  {
   "cell_type": "code",
   "execution_count": 45,
   "metadata": {},
   "outputs": [
    {
     "data": {
      "text/plain": [
       "collections.defaultdict"
      ]
     },
     "execution_count": 45,
     "metadata": {},
     "output_type": "execute_result"
    }
   ],
   "source": [
    "type(sot4_counts)"
   ]
  },
  {
   "cell_type": "code",
   "execution_count": 46,
   "metadata": {},
   "outputs": [
    {
     "data": {
      "text/plain": [
       "4"
      ]
     },
     "execution_count": 46,
     "metadata": {},
     "output_type": "execute_result"
    }
   ],
   "source": [
    "sot4_counts['cocaine']"
   ]
  },
  {
   "cell_type": "markdown",
   "metadata": {},
   "source": [
    "By the way, since `blob.word_counts` produces a dictionary-like object in which each key is a unique word... can you tell me the one-line command we could use use to calculate the TTR of any TextBlob object?"
   ]
  },
  {
   "cell_type": "code",
   "execution_count": 48,
   "metadata": {},
   "outputs": [
    {
     "data": {
      "text/plain": [
       "12.270664825409352"
      ]
     },
     "execution_count": 48,
     "metadata": {},
     "output_type": "execute_result"
    }
   ],
   "source": [
    "# We'll figure this one out together...\n",
    "\n",
    "len(sot4_blob.word_counts) / len(sot4_blob.words) * 100"
   ]
  },
  {
   "cell_type": "markdown",
   "metadata": {},
   "source": [
    "# Sentiment Analysis in TextBlob\n",
    "\n",
    "Okay, it's finally time to get back to the thing we really want to do in TextBlob: use its sentiment analysis package! \n",
    "\n",
    "This is accessible with the `blob.sentiment`, `blob.polarity`, and `blob.subjectivity` methods."
   ]
  },
  {
   "cell_type": "code",
   "execution_count": 49,
   "metadata": {},
   "outputs": [
    {
     "data": {
      "text/plain": [
       "Sentiment(polarity=0.20952380952380953, subjectivity=0.27142857142857146)"
      ]
     },
     "execution_count": 49,
     "metadata": {},
     "output_type": "execute_result"
    }
   ],
   "source": [
    "pride_blob.sentiment"
   ]
  },
  {
   "cell_type": "code",
   "execution_count": 50,
   "metadata": {},
   "outputs": [
    {
     "data": {
      "text/plain": [
       "0.20952380952380953"
      ]
     },
     "execution_count": 50,
     "metadata": {},
     "output_type": "execute_result"
    }
   ],
   "source": [
    "pride_blob.polarity"
   ]
  },
  {
   "cell_type": "code",
   "execution_count": 51,
   "metadata": {},
   "outputs": [
    {
     "data": {
      "text/plain": [
       "0.27142857142857146"
      ]
     },
     "execution_count": 51,
     "metadata": {},
     "output_type": "execute_result"
    }
   ],
   "source": [
    "pride_blob.subjectivity"
   ]
  },
  {
   "cell_type": "markdown",
   "metadata": {},
   "source": [
    "Today we are going to focus on sentiment polarity today (how positive or negative, happy or sad, a particular span of text is. "
   ]
  },
  {
   "cell_type": "code",
   "execution_count": 52,
   "metadata": {},
   "outputs": [
    {
     "data": {
      "text/plain": [
       "-1.0"
      ]
     },
     "execution_count": 52,
     "metadata": {},
     "output_type": "execute_result"
    }
   ],
   "source": [
    "TextBlob(\"My life is ruined and I am miserable\").polarity"
   ]
  },
  {
   "cell_type": "code",
   "execution_count": 53,
   "metadata": {},
   "outputs": [
    {
     "data": {
      "text/plain": [
       "0.6000000000000001"
      ]
     },
     "execution_count": 53,
     "metadata": {},
     "output_type": "execute_result"
    }
   ],
   "source": [
    "TextBlob(\"My life is amazing and I am overjoyed\").polarity"
   ]
  },
  {
   "cell_type": "code",
   "execution_count": 54,
   "metadata": {},
   "outputs": [
    {
     "data": {
      "text/plain": [
       "0.5"
      ]
     },
     "execution_count": 54,
     "metadata": {},
     "output_type": "execute_result"
    }
   ],
   "source": [
    "TextBlob(\"My life is not ruined and I am not miserable\").polarity"
   ]
  },
  {
   "cell_type": "code",
   "execution_count": 55,
   "metadata": {},
   "outputs": [
    {
     "data": {
      "text/plain": [
       "-0.30000000000000004"
      ]
     },
     "execution_count": 55,
     "metadata": {},
     "output_type": "execute_result"
    }
   ],
   "source": [
    "TextBlob(\"My life is not amazing and I am not overjoyed\").polarity"
   ]
  },
  {
   "cell_type": "code",
   "execution_count": 56,
   "metadata": {},
   "outputs": [
    {
     "data": {
      "text/plain": [
       "0.6"
      ]
     },
     "execution_count": 56,
     "metadata": {},
     "output_type": "execute_result"
    }
   ],
   "source": [
    "TextBlob(\"It's kind of like a potato\").polarity"
   ]
  },
  {
   "cell_type": "markdown",
   "metadata": {},
   "source": [
    "# Creating a DataFrame of Polarity Values for *The Sign of the Four*\n",
    "\n",
    "We now have pretty much all the pieces in place to accomplish our task: creating a DataFrame in which each row contains a sentence from *The Sign of the Four* and the TextBlob polarity and subjectivity score for that sentence. Let's go!\n",
    "\n",
    "We will create three parallel lists:\n",
    "- one containing the text of every sentence, in the form of a `string`\n",
    "- one containing a polarity value for each sentence, in the form of a `float`\n",
    "- one containing a subjectivity value for each sentence, also in the form of a `float`\n",
    "\n",
    "How would we do this, using skills we learned back in the first half of the course?"
   ]
  },
  {
   "cell_type": "markdown",
   "metadata": {},
   "source": [
    "## Using `blob.sentences`\n",
    "\n",
    "Let's start by examining the output of TextBlob's `blob.sentences` method more closely, so we get a better sense of how we'll produce our three desired lists."
   ]
  },
  {
   "cell_type": "code",
   "execution_count": 57,
   "metadata": {},
   "outputs": [],
   "source": [
    "sot4_sentences_blob = sot4_blob.sentences"
   ]
  },
  {
   "cell_type": "code",
   "execution_count": 58,
   "metadata": {},
   "outputs": [
    {
     "data": {
      "text/plain": [
       "list"
      ]
     },
     "execution_count": 58,
     "metadata": {},
     "output_type": "execute_result"
    }
   ],
   "source": [
    "type(sot4_sentences_blob)"
   ]
  },
  {
   "cell_type": "code",
   "execution_count": 59,
   "metadata": {},
   "outputs": [
    {
     "data": {
      "text/plain": [
       "Sentence(\"Why should you, for a mere passing pleasure, risk the loss of those great powers with which you have been endowed?\")"
      ]
     },
     "execution_count": 59,
     "metadata": {},
     "output_type": "execute_result"
    }
   ],
   "source": [
    "sot4_sentences_blob[22]"
   ]
  },
  {
   "cell_type": "code",
   "execution_count": 60,
   "metadata": {},
   "outputs": [
    {
     "data": {
      "text/plain": [
       "textblob.blob.Sentence"
      ]
     },
     "execution_count": 60,
     "metadata": {},
     "output_type": "execute_result"
    }
   ],
   "source": [
    "type(sot4_sentences_blob[22])"
   ]
  },
  {
   "cell_type": "code",
   "execution_count": 61,
   "metadata": {},
   "outputs": [
    {
     "data": {
      "text/plain": [
       "0.15000000000000002"
      ]
     },
     "execution_count": 61,
     "metadata": {},
     "output_type": "execute_result"
    }
   ],
   "source": [
    "sot4_sentences_blob[22].polarity"
   ]
  },
  {
   "cell_type": "code",
   "execution_count": 62,
   "metadata": {},
   "outputs": [],
   "source": [
    "sot4_polarities = []\n",
    "\n",
    "for sentence in sot4_sentences_blob:\n",
    "    sot4_polarities.append(sentence.polarity)"
   ]
  },
  {
   "cell_type": "code",
   "execution_count": 64,
   "metadata": {},
   "outputs": [
    {
     "data": {
      "text/plain": [
       "2333"
      ]
     },
     "execution_count": 64,
     "metadata": {},
     "output_type": "execute_result"
    }
   ],
   "source": [
    "len(sot4_polarities)"
   ]
  },
  {
   "cell_type": "code",
   "execution_count": 65,
   "metadata": {},
   "outputs": [],
   "source": [
    "sot4_subjectivities = []\n",
    "\n",
    "for sentence in sot4_sentences_blob:\n",
    "    sot4_subjectivities.append(sentence.subjectivity)"
   ]
  },
  {
   "cell_type": "code",
   "execution_count": 66,
   "metadata": {},
   "outputs": [
    {
     "data": {
      "text/plain": [
       "[0.0, 0.26, 0.5, 0.48981481481481476, 0.5, 0.5, 0.2625, 0.7625, 0.75, 0.2]"
      ]
     },
     "execution_count": 66,
     "metadata": {},
     "output_type": "execute_result"
    }
   ],
   "source": [
    "sot4_subjectivities[:10]"
   ]
  },
  {
   "cell_type": "code",
   "execution_count": 68,
   "metadata": {},
   "outputs": [
    {
     "data": {
      "text/plain": [
       "textblob.blob.Sentence"
      ]
     },
     "execution_count": 68,
     "metadata": {},
     "output_type": "execute_result"
    }
   ],
   "source": [
    "type(sot4_sentences_blob[22])"
   ]
  },
  {
   "cell_type": "code",
   "execution_count": 69,
   "metadata": {
    "scrolled": false
   },
   "outputs": [
    {
     "data": {
      "text/plain": [
       "'Why should you, for a mere passing pleasure, risk the loss of those great powers with which you have been endowed?'"
      ]
     },
     "execution_count": 69,
     "metadata": {},
     "output_type": "execute_result"
    }
   ],
   "source": [
    "sot4_sentences_blob[22].raw"
   ]
  },
  {
   "cell_type": "code",
   "execution_count": 70,
   "metadata": {
    "scrolled": false
   },
   "outputs": [
    {
     "data": {
      "text/plain": [
       "str"
      ]
     },
     "execution_count": 70,
     "metadata": {},
     "output_type": "execute_result"
    }
   ],
   "source": [
    "type(sot4_sentences_blob[22].raw)"
   ]
  },
  {
   "cell_type": "code",
   "execution_count": 71,
   "metadata": {},
   "outputs": [
    {
     "data": {
      "text/plain": [
       "Sentence(\"Chapter I The Science of Deduction\n",
       "\n",
       "\n",
       "Sherlock Holmes took his bottle from the corner of the mantel-piece and his hypodermic syringe from its neat morocco case.\")"
      ]
     },
     "execution_count": 71,
     "metadata": {},
     "output_type": "execute_result"
    }
   ],
   "source": [
    "sot4_sentences_blob[0]"
   ]
  },
  {
   "cell_type": "code",
   "execution_count": 72,
   "metadata": {},
   "outputs": [
    {
     "data": {
      "text/plain": [
       "'Chapter I The Science of Deduction\\n\\n\\nSherlock Holmes took his bottle from the corner of the mantel-piece and his hypodermic syringe from its neat morocco case.'"
      ]
     },
     "execution_count": 72,
     "metadata": {},
     "output_type": "execute_result"
    }
   ],
   "source": [
    "sot4_sentences_blob[0].raw"
   ]
  },
  {
   "cell_type": "markdown",
   "metadata": {},
   "source": [
    "Since that output is a bit ugly, with all those `\\n\\n\\n`s, let's create our `string` of each sentence in a slightly different way: by using Python's `string.join()` method, which we met wayyyyy back in Week 3 (go look if you don't believe me!). \n",
    "\n",
    "Here, we'll use `string.join()` to join together all the `blob.word`s with spaces, which gives us a pretty string to work with."
   ]
  },
  {
   "cell_type": "code",
   "execution_count": 73,
   "metadata": {},
   "outputs": [
    {
     "data": {
      "text/plain": [
       "WordList(['Chapter', 'I', 'The', 'Science', 'of', 'Deduction', 'Sherlock', 'Holmes', 'took', 'his', 'bottle', 'from', 'the', 'corner', 'of', 'the', 'mantel-piece', 'and', 'his', 'hypodermic', 'syringe', 'from', 'its', 'neat', 'morocco', 'case'])"
      ]
     },
     "execution_count": 73,
     "metadata": {},
     "output_type": "execute_result"
    }
   ],
   "source": [
    "sot4_sentences_blob[0].words"
   ]
  },
  {
   "cell_type": "code",
   "execution_count": 74,
   "metadata": {},
   "outputs": [
    {
     "data": {
      "text/plain": [
       "'Chapter I The Science of Deduction Sherlock Holmes took his bottle from the corner of the mantel-piece and his hypodermic syringe from its neat morocco case'"
      ]
     },
     "execution_count": 74,
     "metadata": {},
     "output_type": "execute_result"
    }
   ],
   "source": [
    "\" \".join(sot4_sentences_blob[0].words)"
   ]
  },
  {
   "cell_type": "code",
   "execution_count": 75,
   "metadata": {},
   "outputs": [
    {
     "data": {
      "text/plain": [
       "str"
      ]
     },
     "execution_count": 75,
     "metadata": {},
     "output_type": "execute_result"
    }
   ],
   "source": [
    "type(\" \".join(sot4_sentences_blob[0].words))"
   ]
  },
  {
   "cell_type": "code",
   "execution_count": 76,
   "metadata": {},
   "outputs": [],
   "source": [
    "sot4_sentences = []\n",
    "\n",
    "for sentence in sot4_sentences_blob:\n",
    "    sot4_sentences.append(\" \".join(sentence.words))"
   ]
  },
  {
   "cell_type": "code",
   "execution_count": 77,
   "metadata": {},
   "outputs": [
    {
     "data": {
      "text/plain": [
       "['Chapter I The Science of Deduction Sherlock Holmes took his bottle from the corner of the mantel-piece and his hypodermic syringe from its neat morocco case',\n",
       " 'With his long white nervous fingers he adjusted the delicate needle and rolled back his left shirt-cuff',\n",
       " 'For some little time his eyes rested thoughtfully upon the sinewy forearm and wrist all dotted and scarred with innumerable puncture-marks',\n",
       " 'Finally he thrust the sharp point home pressed down the tiny piston and sank back into the velvet-lined arm-chair with a long sigh of satisfaction',\n",
       " 'Three times a day for many months I had witnessed this performance but custom had not reconciled my mind to it',\n",
       " 'On the contrary from day to day I had become more irritable at the sight and my conscience swelled nightly within me at the thought that I had lacked the courage to protest',\n",
       " 'Again and again I had registered a vow that I should deliver my soul upon the subject but there was that in the cool nonchalant air of my companion which made him the last man with whom one would care to take anything approaching to a liberty',\n",
       " 'His great powers his masterly manner and the experience which I had had of his many extraordinary qualities all made me diffident and backward in crossing him',\n",
       " 'Yet upon that afternoon whether it was the Beaune which I had taken with my lunch or the additional exasperation produced by the extreme deliberation of his manner I suddenly felt that I could hold out no longer',\n",
       " '“ Which is it to-day ” I asked — “ morphine or cocaine ” He raised his eyes languidly from the old black-letter volume which he had opened']"
      ]
     },
     "execution_count": 77,
     "metadata": {},
     "output_type": "execute_result"
    }
   ],
   "source": [
    "sot4_sentences[:10]"
   ]
  },
  {
   "cell_type": "markdown",
   "metadata": {},
   "source": [
    "# Creating a DataFrame from Three Parallel Lists\n",
    "\n",
    "Okay, we have all the contents of our desired DataFrame.\n",
    "\n",
    "- A list containing all the sentences of *The Sign of the Four*, in order\n",
    "- A list containing the polarity values for each of those sentences, in order\n",
    "- A list containing the subjectivity values for each of those sentences, in order\n",
    "\n",
    "Our friend Pandas allows us to quite easily make a new DataFrame out of this kind of data, with its `pd.DataFrame()` method.\n",
    "\n",
    "The `pd.DataFrame()` method takes as its argument... **a dictionary**! (See why we had to finally learn about dictionaries??). It expects this argument to be formatted as follows:\n",
    "\n",
    "```\n",
    "new_df = pd.DataFrame(\n",
    "    {\n",
    "        'column1': list1,\n",
    "        'column2': list2,\n",
    "        'column3': list3\n",
    "    }\n",
    ")\n",
    "```\n",
    "\n",
    "Of course, you could also write this same command without all the tabs and newlines as follows:\n",
    "\n",
    "`new_df = pd.DataFrame({'column1': list1, 'column2': list2, 'column3': list3})`\n"
   ]
  },
  {
   "cell_type": "code",
   "execution_count": 78,
   "metadata": {},
   "outputs": [],
   "source": [
    "import pandas as pd"
   ]
  },
  {
   "cell_type": "code",
   "execution_count": 79,
   "metadata": {},
   "outputs": [],
   "source": [
    "sot4_sentence_sentiment_df = pd.DataFrame({\n",
    "    'sentence': sot4_sentences,\n",
    "    'polarity': sot4_polarities,\n",
    "    'subjectivity': sot4_subjectivities\n",
    "})"
   ]
  },
  {
   "cell_type": "code",
   "execution_count": 80,
   "metadata": {},
   "outputs": [
    {
     "data": {
      "text/html": [
       "<div>\n",
       "<style scoped>\n",
       "    .dataframe tbody tr th:only-of-type {\n",
       "        vertical-align: middle;\n",
       "    }\n",
       "\n",
       "    .dataframe tbody tr th {\n",
       "        vertical-align: top;\n",
       "    }\n",
       "\n",
       "    .dataframe thead th {\n",
       "        text-align: right;\n",
       "    }\n",
       "</style>\n",
       "<table border=\"1\" class=\"dataframe\">\n",
       "  <thead>\n",
       "    <tr style=\"text-align: right;\">\n",
       "      <th></th>\n",
       "      <th>sentence</th>\n",
       "      <th>polarity</th>\n",
       "      <th>subjectivity</th>\n",
       "    </tr>\n",
       "  </thead>\n",
       "  <tbody>\n",
       "    <tr>\n",
       "      <th>0</th>\n",
       "      <td>Chapter I The Science of Deduction Sherlock Ho...</td>\n",
       "      <td>0.000000</td>\n",
       "      <td>0.000000</td>\n",
       "    </tr>\n",
       "    <tr>\n",
       "      <th>1</th>\n",
       "      <td>With his long white nervous fingers he adjuste...</td>\n",
       "      <td>-0.070000</td>\n",
       "      <td>0.260000</td>\n",
       "    </tr>\n",
       "    <tr>\n",
       "      <th>2</th>\n",
       "      <td>For some little time his eyes rested thoughtfu...</td>\n",
       "      <td>0.106250</td>\n",
       "      <td>0.500000</td>\n",
       "    </tr>\n",
       "    <tr>\n",
       "      <th>3</th>\n",
       "      <td>Finally he thrust the sharp point home pressed...</td>\n",
       "      <td>-0.055093</td>\n",
       "      <td>0.489815</td>\n",
       "    </tr>\n",
       "    <tr>\n",
       "      <th>4</th>\n",
       "      <td>Three times a day for many months I had witnes...</td>\n",
       "      <td>0.500000</td>\n",
       "      <td>0.500000</td>\n",
       "    </tr>\n",
       "    <tr>\n",
       "      <th>...</th>\n",
       "      <td>...</td>\n",
       "      <td>...</td>\n",
       "      <td>...</td>\n",
       "    </tr>\n",
       "    <tr>\n",
       "      <th>2328</th>\n",
       "      <td>I shall be as limp as a rag for a week ” “ Str...</td>\n",
       "      <td>0.229167</td>\n",
       "      <td>0.550000</td>\n",
       "    </tr>\n",
       "    <tr>\n",
       "      <th>2329</th>\n",
       "      <td>I often think of those lines of old Goethe — S...</td>\n",
       "      <td>0.100000</td>\n",
       "      <td>0.200000</td>\n",
       "    </tr>\n",
       "    <tr>\n",
       "      <th>2330</th>\n",
       "      <td>“ By the way à propos of this Norwood business...</td>\n",
       "      <td>0.043750</td>\n",
       "      <td>0.556250</td>\n",
       "    </tr>\n",
       "    <tr>\n",
       "      <th>2331</th>\n",
       "      <td>“ You have done all the work in this business</td>\n",
       "      <td>0.000000</td>\n",
       "      <td>0.000000</td>\n",
       "    </tr>\n",
       "    <tr>\n",
       "      <th>2332</th>\n",
       "      <td>I get a wife out of it Jones gets the credit p...</td>\n",
       "      <td>-0.033333</td>\n",
       "      <td>0.133333</td>\n",
       "    </tr>\n",
       "  </tbody>\n",
       "</table>\n",
       "<p>2333 rows × 3 columns</p>\n",
       "</div>"
      ],
      "text/plain": [
       "                                               sentence  polarity  \\\n",
       "0     Chapter I The Science of Deduction Sherlock Ho...  0.000000   \n",
       "1     With his long white nervous fingers he adjuste... -0.070000   \n",
       "2     For some little time his eyes rested thoughtfu...  0.106250   \n",
       "3     Finally he thrust the sharp point home pressed... -0.055093   \n",
       "4     Three times a day for many months I had witnes...  0.500000   \n",
       "...                                                 ...       ...   \n",
       "2328  I shall be as limp as a rag for a week ” “ Str...  0.229167   \n",
       "2329  I often think of those lines of old Goethe — S...  0.100000   \n",
       "2330  “ By the way à propos of this Norwood business...  0.043750   \n",
       "2331      “ You have done all the work in this business  0.000000   \n",
       "2332  I get a wife out of it Jones gets the credit p... -0.033333   \n",
       "\n",
       "      subjectivity  \n",
       "0         0.000000  \n",
       "1         0.260000  \n",
       "2         0.500000  \n",
       "3         0.489815  \n",
       "4         0.500000  \n",
       "...            ...  \n",
       "2328      0.550000  \n",
       "2329      0.200000  \n",
       "2330      0.556250  \n",
       "2331      0.000000  \n",
       "2332      0.133333  \n",
       "\n",
       "[2333 rows x 3 columns]"
      ]
     },
     "execution_count": 80,
     "metadata": {},
     "output_type": "execute_result"
    }
   ],
   "source": [
    "sot4_sentence_sentiment_df"
   ]
  },
  {
   "cell_type": "markdown",
   "metadata": {},
   "source": [
    "Let's now have a look at the sentences that TextBlob considers the most positive, as well as the most negative ones..."
   ]
  },
  {
   "cell_type": "code",
   "execution_count": 81,
   "metadata": {},
   "outputs": [
    {
     "data": {
      "text/html": [
       "<div>\n",
       "<style scoped>\n",
       "    .dataframe tbody tr th:only-of-type {\n",
       "        vertical-align: middle;\n",
       "    }\n",
       "\n",
       "    .dataframe tbody tr th {\n",
       "        vertical-align: top;\n",
       "    }\n",
       "\n",
       "    .dataframe thead th {\n",
       "        text-align: right;\n",
       "    }\n",
       "</style>\n",
       "<table border=\"1\" class=\"dataframe\">\n",
       "  <thead>\n",
       "    <tr style=\"text-align: right;\">\n",
       "      <th></th>\n",
       "      <th>sentence</th>\n",
       "      <th>polarity</th>\n",
       "      <th>subjectivity</th>\n",
       "    </tr>\n",
       "  </thead>\n",
       "  <tbody>\n",
       "    <tr>\n",
       "      <th>1476</th>\n",
       "      <td>“ Even the best of us are thrown off sometimes</td>\n",
       "      <td>1.00</td>\n",
       "      <td>0.30</td>\n",
       "    </tr>\n",
       "    <tr>\n",
       "      <th>118</th>\n",
       "      <td>I assure you however that I never even knew th...</td>\n",
       "      <td>1.00</td>\n",
       "      <td>1.00</td>\n",
       "    </tr>\n",
       "    <tr>\n",
       "      <th>246</th>\n",
       "      <td>“ What a very attractive woman ” I exclaimed t...</td>\n",
       "      <td>1.00</td>\n",
       "      <td>1.00</td>\n",
       "    </tr>\n",
       "    <tr>\n",
       "      <th>1237</th>\n",
       "      <td>Below the bridge there is a perfect labyrinth ...</td>\n",
       "      <td>1.00</td>\n",
       "      <td>1.00</td>\n",
       "    </tr>\n",
       "    <tr>\n",
       "      <th>339</th>\n",
       "      <td>He bent a pair of wonderfully penetrating and ...</td>\n",
       "      <td>1.00</td>\n",
       "      <td>1.00</td>\n",
       "    </tr>\n",
       "    <tr>\n",
       "      <th>2064</th>\n",
       "      <td>It was best to get it over</td>\n",
       "      <td>1.00</td>\n",
       "      <td>0.30</td>\n",
       "    </tr>\n",
       "    <tr>\n",
       "      <th>214</th>\n",
       "      <td>Best quality paper</td>\n",
       "      <td>1.00</td>\n",
       "      <td>0.30</td>\n",
       "    </tr>\n",
       "    <tr>\n",
       "      <th>1574</th>\n",
       "      <td>One of our greatest statesmen has said that a ...</td>\n",
       "      <td>1.00</td>\n",
       "      <td>0.65</td>\n",
       "    </tr>\n",
       "    <tr>\n",
       "      <th>1541</th>\n",
       "      <td>However if you can catch him I don ’ t see how...</td>\n",
       "      <td>1.00</td>\n",
       "      <td>1.00</td>\n",
       "    </tr>\n",
       "    <tr>\n",
       "      <th>165</th>\n",
       "      <td>She was much impressed by your kindness and sk...</td>\n",
       "      <td>1.00</td>\n",
       "      <td>1.00</td>\n",
       "    </tr>\n",
       "    <tr>\n",
       "      <th>1463</th>\n",
       "      <td>“ Your friend Mr Sherlock Holmes is a wonderfu...</td>\n",
       "      <td>1.00</td>\n",
       "      <td>1.00</td>\n",
       "    </tr>\n",
       "    <tr>\n",
       "      <th>1129</th>\n",
       "      <td>His hairiness was the one point which impresse...</td>\n",
       "      <td>1.00</td>\n",
       "      <td>1.00</td>\n",
       "    </tr>\n",
       "    <tr>\n",
       "      <th>2266</th>\n",
       "      <td>They had one very good quality they let you al...</td>\n",
       "      <td>0.91</td>\n",
       "      <td>0.78</td>\n",
       "    </tr>\n",
       "    <tr>\n",
       "      <th>398</th>\n",
       "      <td>I have grave doubts as to my mitral valve if y...</td>\n",
       "      <td>0.91</td>\n",
       "      <td>0.78</td>\n",
       "    </tr>\n",
       "    <tr>\n",
       "      <th>1547</th>\n",
       "      <td>I have never known him so brilliant</td>\n",
       "      <td>0.90</td>\n",
       "      <td>1.00</td>\n",
       "    </tr>\n",
       "  </tbody>\n",
       "</table>\n",
       "</div>"
      ],
      "text/plain": [
       "                                               sentence  polarity  \\\n",
       "1476     “ Even the best of us are thrown off sometimes      1.00   \n",
       "118   I assure you however that I never even knew th...      1.00   \n",
       "246   “ What a very attractive woman ” I exclaimed t...      1.00   \n",
       "1237  Below the bridge there is a perfect labyrinth ...      1.00   \n",
       "339   He bent a pair of wonderfully penetrating and ...      1.00   \n",
       "2064                         It was best to get it over      1.00   \n",
       "214                                  Best quality paper      1.00   \n",
       "1574  One of our greatest statesmen has said that a ...      1.00   \n",
       "1541  However if you can catch him I don ’ t see how...      1.00   \n",
       "165   She was much impressed by your kindness and sk...      1.00   \n",
       "1463  “ Your friend Mr Sherlock Holmes is a wonderfu...      1.00   \n",
       "1129  His hairiness was the one point which impresse...      1.00   \n",
       "2266  They had one very good quality they let you al...      0.91   \n",
       "398   I have grave doubts as to my mitral valve if y...      0.91   \n",
       "1547                I have never known him so brilliant      0.90   \n",
       "\n",
       "      subjectivity  \n",
       "1476          0.30  \n",
       "118           1.00  \n",
       "246           1.00  \n",
       "1237          1.00  \n",
       "339           1.00  \n",
       "2064          0.30  \n",
       "214           0.30  \n",
       "1574          0.65  \n",
       "1541          1.00  \n",
       "165           1.00  \n",
       "1463          1.00  \n",
       "1129          1.00  \n",
       "2266          0.78  \n",
       "398           0.78  \n",
       "1547          1.00  "
      ]
     },
     "execution_count": 81,
     "metadata": {},
     "output_type": "execute_result"
    }
   ],
   "source": [
    "sot4_sentence_sentiment_df.sort_values(by='polarity', ascending=False)[:15]"
   ]
  },
  {
   "cell_type": "markdown",
   "metadata": {},
   "source": [
    "Pretty hard to read what's in the `Sentence` column! We could export it to a CSV and explore it in Excel or Google Sheets... or we can set this Pandas parameter so that there is no maximum column width, and it will just show us everything!"
   ]
  },
  {
   "cell_type": "code",
   "execution_count": 82,
   "metadata": {},
   "outputs": [],
   "source": [
    "pd.set_option('display.max_colwidth', 0)"
   ]
  },
  {
   "cell_type": "code",
   "execution_count": 83,
   "metadata": {},
   "outputs": [
    {
     "data": {
      "text/html": [
       "<div>\n",
       "<style scoped>\n",
       "    .dataframe tbody tr th:only-of-type {\n",
       "        vertical-align: middle;\n",
       "    }\n",
       "\n",
       "    .dataframe tbody tr th {\n",
       "        vertical-align: top;\n",
       "    }\n",
       "\n",
       "    .dataframe thead th {\n",
       "        text-align: right;\n",
       "    }\n",
       "</style>\n",
       "<table border=\"1\" class=\"dataframe\">\n",
       "  <thead>\n",
       "    <tr style=\"text-align: right;\">\n",
       "      <th></th>\n",
       "      <th>sentence</th>\n",
       "      <th>polarity</th>\n",
       "      <th>subjectivity</th>\n",
       "    </tr>\n",
       "  </thead>\n",
       "  <tbody>\n",
       "    <tr>\n",
       "      <th>1476</th>\n",
       "      <td>“ Even the best of us are thrown off sometimes</td>\n",
       "      <td>1.00</td>\n",
       "      <td>0.30</td>\n",
       "    </tr>\n",
       "    <tr>\n",
       "      <th>118</th>\n",
       "      <td>I assure you however that I never even knew that you had a brother until you handed me the watch ” “ Then how in the name of all that is wonderful did you get these facts</td>\n",
       "      <td>1.00</td>\n",
       "      <td>1.00</td>\n",
       "    </tr>\n",
       "    <tr>\n",
       "      <th>246</th>\n",
       "      <td>“ What a very attractive woman ” I exclaimed turning to my companion</td>\n",
       "      <td>1.00</td>\n",
       "      <td>1.00</td>\n",
       "    </tr>\n",
       "    <tr>\n",
       "      <th>1237</th>\n",
       "      <td>Below the bridge there is a perfect labyrinth of landing-places for miles</td>\n",
       "      <td>1.00</td>\n",
       "      <td>1.00</td>\n",
       "    </tr>\n",
       "    <tr>\n",
       "      <th>339</th>\n",
       "      <td>He bent a pair of wonderfully penetrating and questioning eyes upon us</td>\n",
       "      <td>1.00</td>\n",
       "      <td>1.00</td>\n",
       "    </tr>\n",
       "    <tr>\n",
       "      <th>2064</th>\n",
       "      <td>It was best to get it over</td>\n",
       "      <td>1.00</td>\n",
       "      <td>0.30</td>\n",
       "    </tr>\n",
       "    <tr>\n",
       "      <th>214</th>\n",
       "      <td>Best quality paper</td>\n",
       "      <td>1.00</td>\n",
       "      <td>0.30</td>\n",
       "    </tr>\n",
       "    <tr>\n",
       "      <th>1574</th>\n",
       "      <td>One of our greatest statesmen has said that a change of work is the best rest</td>\n",
       "      <td>1.00</td>\n",
       "      <td>0.65</td>\n",
       "    </tr>\n",
       "    <tr>\n",
       "      <th>1541</th>\n",
       "      <td>However if you can catch him I don ’ t see how I can refuse you an interview with him ” “ That is understood then ” “ Perfectly</td>\n",
       "      <td>1.00</td>\n",
       "      <td>1.00</td>\n",
       "    </tr>\n",
       "    <tr>\n",
       "      <th>165</th>\n",
       "      <td>She was much impressed by your kindness and skill ” “ Mrs</td>\n",
       "      <td>1.00</td>\n",
       "      <td>1.00</td>\n",
       "    </tr>\n",
       "    <tr>\n",
       "      <th>1463</th>\n",
       "      <td>“ Your friend Mr Sherlock Holmes is a wonderful man sir ” said he in a husky and confidential voice</td>\n",
       "      <td>1.00</td>\n",
       "      <td>1.00</td>\n",
       "    </tr>\n",
       "    <tr>\n",
       "      <th>1129</th>\n",
       "      <td>His hairiness was the one point which impressed itself upon Thaddeus Sholto when he saw him at the window</td>\n",
       "      <td>1.00</td>\n",
       "      <td>1.00</td>\n",
       "    </tr>\n",
       "    <tr>\n",
       "      <th>2266</th>\n",
       "      <td>They had one very good quality they let you alone and asked no questions</td>\n",
       "      <td>0.91</td>\n",
       "      <td>0.78</td>\n",
       "    </tr>\n",
       "    <tr>\n",
       "      <th>398</th>\n",
       "      <td>I have grave doubts as to my mitral valve if you would be so very good</td>\n",
       "      <td>0.91</td>\n",
       "      <td>0.78</td>\n",
       "    </tr>\n",
       "    <tr>\n",
       "      <th>1547</th>\n",
       "      <td>I have never known him so brilliant</td>\n",
       "      <td>0.90</td>\n",
       "      <td>1.00</td>\n",
       "    </tr>\n",
       "  </tbody>\n",
       "</table>\n",
       "</div>"
      ],
      "text/plain": [
       "                                                                                                                                                                        sentence  \\\n",
       "1476  “ Even the best of us are thrown off sometimes                                                                                                                               \n",
       "118   I assure you however that I never even knew that you had a brother until you handed me the watch ” “ Then how in the name of all that is wonderful did you get these facts   \n",
       "246   “ What a very attractive woman ” I exclaimed turning to my companion                                                                                                         \n",
       "1237  Below the bridge there is a perfect labyrinth of landing-places for miles                                                                                                    \n",
       "339   He bent a pair of wonderfully penetrating and questioning eyes upon us                                                                                                       \n",
       "2064  It was best to get it over                                                                                                                                                   \n",
       "214   Best quality paper                                                                                                                                                           \n",
       "1574  One of our greatest statesmen has said that a change of work is the best rest                                                                                                \n",
       "1541  However if you can catch him I don ’ t see how I can refuse you an interview with him ” “ That is understood then ” “ Perfectly                                              \n",
       "165   She was much impressed by your kindness and skill ” “ Mrs                                                                                                                    \n",
       "1463  “ Your friend Mr Sherlock Holmes is a wonderful man sir ” said he in a husky and confidential voice                                                                          \n",
       "1129  His hairiness was the one point which impressed itself upon Thaddeus Sholto when he saw him at the window                                                                    \n",
       "2266  They had one very good quality they let you alone and asked no questions                                                                                                     \n",
       "398   I have grave doubts as to my mitral valve if you would be so very good                                                                                                       \n",
       "1547  I have never known him so brilliant                                                                                                                                          \n",
       "\n",
       "      polarity  subjectivity  \n",
       "1476  1.00      0.30          \n",
       "118   1.00      1.00          \n",
       "246   1.00      1.00          \n",
       "1237  1.00      1.00          \n",
       "339   1.00      1.00          \n",
       "2064  1.00      0.30          \n",
       "214   1.00      0.30          \n",
       "1574  1.00      0.65          \n",
       "1541  1.00      1.00          \n",
       "165   1.00      1.00          \n",
       "1463  1.00      1.00          \n",
       "1129  1.00      1.00          \n",
       "2266  0.91      0.78          \n",
       "398   0.91      0.78          \n",
       "1547  0.90      1.00          "
      ]
     },
     "execution_count": 83,
     "metadata": {},
     "output_type": "execute_result"
    }
   ],
   "source": [
    "sot4_sentence_sentiment_df.sort_values(by='polarity', ascending=False)[:15]"
   ]
  },
  {
   "cell_type": "code",
   "execution_count": 84,
   "metadata": {
    "scrolled": true
   },
   "outputs": [
    {
     "data": {
      "text/html": [
       "<div>\n",
       "<style scoped>\n",
       "    .dataframe tbody tr th:only-of-type {\n",
       "        vertical-align: middle;\n",
       "    }\n",
       "\n",
       "    .dataframe tbody tr th {\n",
       "        vertical-align: top;\n",
       "    }\n",
       "\n",
       "    .dataframe thead th {\n",
       "        text-align: right;\n",
       "    }\n",
       "</style>\n",
       "<table border=\"1\" class=\"dataframe\">\n",
       "  <thead>\n",
       "    <tr style=\"text-align: right;\">\n",
       "      <th></th>\n",
       "      <th>sentence</th>\n",
       "      <th>polarity</th>\n",
       "      <th>subjectivity</th>\n",
       "    </tr>\n",
       "  </thead>\n",
       "  <tbody>\n",
       "    <tr>\n",
       "      <th>686</th>\n",
       "      <td>“ This is terrible ” I said to Holmes</td>\n",
       "      <td>-1.000000</td>\n",
       "      <td>1.000000</td>\n",
       "    </tr>\n",
       "    <tr>\n",
       "      <th>456</th>\n",
       "      <td>He was very fearful of going out alone and he always employed two prize-fighters to act as porters at Pondicherry Lodge</td>\n",
       "      <td>-1.000000</td>\n",
       "      <td>1.000000</td>\n",
       "    </tr>\n",
       "    <tr>\n",
       "      <th>2086</th>\n",
       "      <td>“ It was all very bad no doubt ” said he</td>\n",
       "      <td>-0.910000</td>\n",
       "      <td>0.866667</td>\n",
       "    </tr>\n",
       "    <tr>\n",
       "      <th>599</th>\n",
       "      <td>“ This is too bad of you McMurdo ” he said</td>\n",
       "      <td>-0.875000</td>\n",
       "      <td>0.666667</td>\n",
       "    </tr>\n",
       "    <tr>\n",
       "      <th>852</th>\n",
       "      <td>Bad business</td>\n",
       "      <td>-0.875000</td>\n",
       "      <td>0.666667</td>\n",
       "    </tr>\n",
       "    <tr>\n",
       "      <th>853</th>\n",
       "      <td>Bad business</td>\n",
       "      <td>-0.875000</td>\n",
       "      <td>0.666667</td>\n",
       "    </tr>\n",
       "    <tr>\n",
       "      <th>439</th>\n",
       "      <td>You can not imagine what a terrible fellow he is when he is angry ” “ If we are to go to Norwood it would perhaps be as well to start at once ” I ventured to remark</td>\n",
       "      <td>-0.750000</td>\n",
       "      <td>1.000000</td>\n",
       "    </tr>\n",
       "    <tr>\n",
       "      <th>1210</th>\n",
       "      <td>Besides I don ’ t like that wooden-legged man wi ’ his ugly face and outlandish talk</td>\n",
       "      <td>-0.700000</td>\n",
       "      <td>1.000000</td>\n",
       "    </tr>\n",
       "    <tr>\n",
       "      <th>480</th>\n",
       "      <td>After all men have been as bad as this and have recovered</td>\n",
       "      <td>-0.700000</td>\n",
       "      <td>0.666667</td>\n",
       "    </tr>\n",
       "    <tr>\n",
       "      <th>16</th>\n",
       "      <td>“ I suppose that its influence is physically a bad one</td>\n",
       "      <td>-0.700000</td>\n",
       "      <td>0.666667</td>\n",
       "    </tr>\n",
       "    <tr>\n",
       "      <th>1191</th>\n",
       "      <td>“ This looks bad ” said he</td>\n",
       "      <td>-0.700000</td>\n",
       "      <td>0.666667</td>\n",
       "    </tr>\n",
       "    <tr>\n",
       "      <th>783</th>\n",
       "      <td>“ How often have I said to you that when you have eliminated the impossible whatever remains however improbable must be the truth</td>\n",
       "      <td>-0.666667</td>\n",
       "      <td>1.000000</td>\n",
       "    </tr>\n",
       "    <tr>\n",
       "      <th>766</th>\n",
       "      <td>“ It is absolutely impossible ” I answered</td>\n",
       "      <td>-0.666667</td>\n",
       "      <td>1.000000</td>\n",
       "    </tr>\n",
       "    <tr>\n",
       "      <th>1627</th>\n",
       "      <td>We were all eager by this time even the policemen and stokers who had a very vague idea of what was going forward</td>\n",
       "      <td>-0.650000</td>\n",
       "      <td>0.650000</td>\n",
       "    </tr>\n",
       "    <tr>\n",
       "      <th>1665</th>\n",
       "      <td>“ We shall be up with her in a very few minutes ” At that moment however as our evil fate would have it a tug with three barges in tow blundered in between us</td>\n",
       "      <td>-0.630000</td>\n",
       "      <td>0.565000</td>\n",
       "    </tr>\n",
       "  </tbody>\n",
       "</table>\n",
       "</div>"
      ],
      "text/plain": [
       "                                                                                                                                                                  sentence  \\\n",
       "686   “ This is terrible ” I said to Holmes                                                                                                                                  \n",
       "456   He was very fearful of going out alone and he always employed two prize-fighters to act as porters at Pondicherry Lodge                                                \n",
       "2086  “ It was all very bad no doubt ” said he                                                                                                                               \n",
       "599   “ This is too bad of you McMurdo ” he said                                                                                                                             \n",
       "852   Bad business                                                                                                                                                           \n",
       "853   Bad business                                                                                                                                                           \n",
       "439   You can not imagine what a terrible fellow he is when he is angry ” “ If we are to go to Norwood it would perhaps be as well to start at once ” I ventured to remark   \n",
       "1210  Besides I don ’ t like that wooden-legged man wi ’ his ugly face and outlandish talk                                                                                   \n",
       "480   After all men have been as bad as this and have recovered                                                                                                              \n",
       "16    “ I suppose that its influence is physically a bad one                                                                                                                 \n",
       "1191  “ This looks bad ” said he                                                                                                                                             \n",
       "783   “ How often have I said to you that when you have eliminated the impossible whatever remains however improbable must be the truth                                      \n",
       "766   “ It is absolutely impossible ” I answered                                                                                                                             \n",
       "1627  We were all eager by this time even the policemen and stokers who had a very vague idea of what was going forward                                                      \n",
       "1665  “ We shall be up with her in a very few minutes ” At that moment however as our evil fate would have it a tug with three barges in tow blundered in between us         \n",
       "\n",
       "      polarity  subjectivity  \n",
       "686  -1.000000  1.000000      \n",
       "456  -1.000000  1.000000      \n",
       "2086 -0.910000  0.866667      \n",
       "599  -0.875000  0.666667      \n",
       "852  -0.875000  0.666667      \n",
       "853  -0.875000  0.666667      \n",
       "439  -0.750000  1.000000      \n",
       "1210 -0.700000  1.000000      \n",
       "480  -0.700000  0.666667      \n",
       "16   -0.700000  0.666667      \n",
       "1191 -0.700000  0.666667      \n",
       "783  -0.666667  1.000000      \n",
       "766  -0.666667  1.000000      \n",
       "1627 -0.650000  0.650000      \n",
       "1665 -0.630000  0.565000      "
      ]
     },
     "execution_count": 84,
     "metadata": {},
     "output_type": "execute_result"
    }
   ],
   "source": [
    "sot4_sentence_sentiment_df.sort_values(by='polarity', ascending=True)[:15]"
   ]
  },
  {
   "cell_type": "markdown",
   "metadata": {},
   "source": [
    "## Preview of Next Time: Plotting Polarity Values\n",
    "\n",
    "Let's quickly do a plot of the polarity values for all the sentences in *The Sign of the Four*. What does this plot tell you? Does it correspond to your sense of the \"emotional trajectory\" of the novel? What works about it, and what doesn't? How could it be improved? "
   ]
  },
  {
   "cell_type": "code",
   "execution_count": 86,
   "metadata": {},
   "outputs": [
    {
     "data": {
      "text/plain": [
       "<AxesSubplot:>"
      ]
     },
     "execution_count": 86,
     "metadata": {},
     "output_type": "execute_result"
    },
    {
     "data": {
      "image/png": "[encoded data removed]",
      "text/plain": [
       "<Figure size 1440x576 with 1 Axes>"
      ]
     },
     "metadata": {
      "needs_background": "light"
     },
     "output_type": "display_data"
    }
   ],
   "source": [
    "sot4_sentence_sentiment_df[['polarity']].plot(figsize=(20,8))"
   ]
  },
  {
   "cell_type": "code",
   "execution_count": null,
   "metadata": {},
   "outputs": [],
   "source": []
  }
 ],
 "metadata": {
  "kernelspec": {
   "display_name": "Python 3 (ipykernel)",
   "language": "python",
   "name": "python3"
  },
  "language_info": {
   "codemirror_mode": {
    "name": "ipython",
    "version": 3
   },
   "file_extension": ".py",
   "mimetype": "text/x-python",
   "name": "python",
   "nbconvert_exporter": "python",
   "pygments_lexer": "ipython3",
   "version": "3.9.7"
  }
 },
 "nbformat": 4,
 "nbformat_minor": 2
}
