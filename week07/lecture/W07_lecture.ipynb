{
 "cells": [
  {
   "cell_type": "markdown",
   "id": "7a7614d2",
   "metadata": {},
   "source": [
    "# Week 7: Introduction to Pandas, Working with the NYT Best Seller list\n",
    "\n",
    "\n",
    "In this week, we introduce some of the basics of Pandas, a powerful Python library for working with tabular data like CSV files. And we start working with a new dataset — which does not contain any actual \"text\"; just metadata. What can we learn from it??\n",
    "\n",
    "We will cover how to:\n",
    "\n",
    "* Import Pandas\n",
    "* Read in a CSV or TSV file with Pandas\n",
    "* Explore and filter data\n",
    "* Make simple plots and data visualizations\n",
    "\n",
    "Statistical concepts:\n",
    "* Mode, median, quartiles (from .describe() output)\n",
    "\n",
    "Today's lecture follows Melanie Walsh's chapter [Pandas Basics — Part 1](https://melaniewalsh.github.io/Intro-Cultural-Analytics/03-Data-Analysis/01-Pandas-Basics-Part1.html)\n",
    "\n",
    "\n",
    "## Dataset\n",
    "\n",
    "The New York Times Hardcover Best Sellers dataset comes from the Post45 Data Collective: https://data.post45.org/our-data/"
   ]
  },
  {
   "cell_type": "markdown",
   "id": "fe3f4f90",
   "metadata": {},
   "source": [
    "# What Is (Are?) Pandas 🐼🐼\n",
    "\n",
    "**Pandas** is a powerful Python library for working with tabular data (aka spreadsheet-like stuff). If (nay, **when**) you find yourself working as a Data Scientist, you will use a whole lot of Pandas to make your life easier. Think of it as a way of performing all kinds of complicated tasks without having to code everything out in massive coding blocks.\n",
    "\n",
    "Still, Pandas will feel a bit like a whole new language. Our knowledge of Python to this point takes us a long way toward understanding it. But it will still take some getting-used-to."
   ]
  },
  {
   "cell_type": "markdown",
   "id": "b3cc258e",
   "metadata": {},
   "source": [
    "# Importing Pandas\n",
    "\n",
    "Like any Python library (such as `re`, our regular expressions library), we need to call Pandas down the firepole in order to use it!\n",
    "\n",
    "![Fireman's pole](firemanspole.gif)\n",
    "\n",
    "Or perhaps this is a little closer to what we'll be up to in this lesson??\n",
    "\n",
    "![Panda descending tree inelegantly](panda-climb.gif)\n",
    "\n",
    "The line of code below both `import`s Pandas and also gives is a shorter name, which will be handy for us, since we'll be typing it out quite a lot..."
   ]
  },
  {
   "cell_type": "code",
   "execution_count": null,
   "id": "eadf7087",
   "metadata": {},
   "outputs": [],
   "source": [
    "import pandas as pd"
   ]
  },
  {
   "cell_type": "markdown",
   "id": "eb32b5d0",
   "metadata": {},
   "source": [
    "Let's just go right ahead and load the *New York Times* Best Seller List that we've been discussing, and which your ENG286 Instuctors Team has placed in the same folder in which this lecture lives. It's called `nyt_dataset.tsv`\n",
    "\n",
    "This dataset comes to us as a \"TSV\" (tab-separated values) — which is exactly like a CSV (comma-separated values), except that the values are separated by... tabs (the `\\t` character)... rather than commas (`,`s).\n",
    "\n",
    "The below line of code invokes the `pd.read_csv()` method, which is a built-in bit of code that Pandas provides us to quickly load CSV or TSV files. We tell the method that this is a **T**SV with the `sep=\"\\t\"` parameter.\n",
    "\n",
    "It loads the file and stores it in a variable we've named `nyt_df`."
   ]
  },
  {
   "cell_type": "code",
   "execution_count": null,
   "id": "bd963315",
   "metadata": {},
   "outputs": [],
   "source": [
    "nyt_df = pd.read_csv('nyt_full.tsv', sep=\"\\t\")"
   ]
  },
  {
   "cell_type": "markdown",
   "id": "8f90ad41",
   "metadata": {},
   "source": [
    "Pandas creates a new **data type** for us: a special data type all its own called a **DataFrame**, which you can think of as a spreadsheet, with some advanced capabilities we'll be exploring throughout the rest of the semester..."
   ]
  },
  {
   "cell_type": "code",
   "execution_count": null,
   "id": "55a50c62",
   "metadata": {},
   "outputs": [],
   "source": [
    "type(nyt_df)"
   ]
  },
  {
   "cell_type": "markdown",
   "id": "a204579e",
   "metadata": {},
   "source": [
    "Let's have a look at what's inside..."
   ]
  },
  {
   "cell_type": "code",
   "execution_count": null,
   "id": "ac79a195",
   "metadata": {},
   "outputs": [],
   "source": [
    "nyt_df"
   ]
  },
  {
   "cell_type": "markdown",
   "id": "97280519",
   "metadata": {},
   "source": [
    "There are a few things to note about this output:\n",
    "\n",
    "- **Index**\n",
    "    - The bolded ascending numbers in the very left-hand column of the DataFrame is called the Pandas Index. You can select rows based on the Index.\n",
    "    - By default, the Index is a sequence of numbers starting with zero. However, you can change the Index to something else, such as one of the columns in your dataset.\n",
    "\n",
    "- **Truncation**\n",
    "    - The DataFrame is truncated, signaled by the ellipses (`...`) in the middle of every column. To display all the rows, we would need to tweak Pandas's settings. For now, this is fine.\n",
    "    \n",
    "- **Rows x Columns**\n",
    "    - Pandas reports how many rows and columns are in this dataset at the bottom of the output (60386 rows × 6 columns). \n",
    "    - **Let's have a look at all these columns and dimensions and try to wrap our heads around what's actually in this DataFrame!**"
   ]
  },
  {
   "cell_type": "markdown",
   "id": "90939c96",
   "metadata": {},
   "source": [
    "# Display the First `x` Rows\n",
    "\n",
    "If you just want to look at the first `x` number of rows, you can use the `.head()` method, as below."
   ]
  },
  {
   "cell_type": "code",
   "execution_count": null,
   "id": "d6cda25f",
   "metadata": {},
   "outputs": [],
   "source": [
    "nyt_df.head(10)"
   ]
  },
  {
   "cell_type": "markdown",
   "id": "49046eee",
   "metadata": {},
   "source": [
    "# Display a Random Sample\n",
    "\n",
    "If you want to look at a random sample of `x` rows, you can use the `.sample()` method."
   ]
  },
  {
   "cell_type": "code",
   "execution_count": null,
   "id": "1541a3e9",
   "metadata": {},
   "outputs": [],
   "source": [
    "nyt_df.sample(10)"
   ]
  },
  {
   "cell_type": "markdown",
   "id": "73c545b5",
   "metadata": {},
   "source": [
    "# Get Info\n",
    "\n",
    "If you'd like to see basic information about what's in your DataFrame, you can use the `.info()` method."
   ]
  },
  {
   "cell_type": "code",
   "execution_count": null,
   "id": "60c2c58c",
   "metadata": {},
   "outputs": [],
   "source": [
    "nyt_df.info()"
   ]
  },
  {
   "cell_type": "markdown",
   "id": "601d1d6c",
   "metadata": {},
   "source": [
    "This tells you how many \"non-null\" (or non-empty) entries are in each column, as well as the kind of data in each column.\n",
    "\n",
    "Our friend Pandas has their own name for familiar Python data types. Pandas speak their own language, after all; so if we want their cuddles, we must learn this language.\n",
    "\n",
    "- **object**: string\n",
    "- **int64**: integer\n",
    "- **float64**: float\n",
    "- **datetime64**: date time (a data type we haven't encountered yet)"
   ]
  },
  {
   "cell_type": "markdown",
   "id": "e9fbb4ae",
   "metadata": {},
   "source": [
    "# Calculate Summary Statistics\n",
    "\n",
    "We can use the `.describe()` method on a Pandas DataFrame to see summary statistics about the contents of each column. By default, `.describe()` only shows you summaries for three columns, but we're going to ask Pandas to give us summary statistics for all the columns, which we'll do with the `include=\"all\"` parameter."
   ]
  },
  {
   "cell_type": "code",
   "execution_count": null,
   "id": "77c8f381",
   "metadata": {
    "scrolled": true
   },
   "outputs": [],
   "source": [
    "nyt_df.describe(include=\"all\")"
   ]
  },
  {
   "cell_type": "markdown",
   "id": "4c867812",
   "metadata": {},
   "source": [
    "Anywhere that Pandas can't calculate the kind of thing we're asking for, we'll see `NaN`, which is Pandas's way of saying \"data is missing.\"\n",
    "\n",
    "We're all very well equipped to understand the summary stats for the columns containig strings (aka `object`s).\n",
    "- **unique**: number of different strings present. **What does that mean here??**\n",
    "- **top**: most commonly occurring string. **What does that mean here??**\n",
    "- **freq**: the number of times that the top unique string occurs. **What does that mean here??**\n",
    "\n",
    "\n",
    "### Let's turn things over to Mary to explain the summary stats for numerical columns...!"
   ]
  },
  {
   "cell_type": "markdown",
   "id": "1cc581e2",
   "metadata": {},
   "source": [
    "# Selecting Columns\n",
    "\n",
    "If we want to select only a single column of a DataFrame, we can use a similar syntax to the one we used for slicing strings and lists: name of the Pandas DataFrame, then a `[`, then the name of the column we want to select between quotation marks, then a `]`."
   ]
  },
  {
   "cell_type": "code",
   "execution_count": null,
   "id": "b5a7c321",
   "metadata": {},
   "outputs": [],
   "source": [
    "nyt_df['author']"
   ]
  },
  {
   "cell_type": "markdown",
   "id": "6701c0be",
   "metadata": {},
   "source": [
    "This output is another special Pandas data type: a **`Series`.** You can think of a Pandas Series as like a spreadsheet with a single column... or as something very much like a **`list`** in Python."
   ]
  },
  {
   "cell_type": "code",
   "execution_count": null,
   "id": "41c9343c",
   "metadata": {},
   "outputs": [],
   "source": [
    "type(nyt_df['author'])"
   ]
  },
  {
   "cell_type": "markdown",
   "id": "d58fcb8f",
   "metadata": {},
   "source": [
    "If we wanted to display it as a DataFrame, we would need to input a **list of of strings** (remember, lists go in square brackets) containing column names, rather than a single string, as above. We thus end up with \"double square brackets\" here, though the two levels of square brackets mean different things: the outer ones indicate that we are \"subsetting\" (like slicing), and the inner ones indicate that we are passing in a list of strings."
   ]
  },
  {
   "cell_type": "code",
   "execution_count": null,
   "id": "2e184ed1",
   "metadata": {
    "scrolled": true
   },
   "outputs": [],
   "source": [
    "nyt_df[['author']]"
   ]
  },
  {
   "cell_type": "code",
   "execution_count": null,
   "id": "38225c66",
   "metadata": {},
   "outputs": [],
   "source": [
    "type(nyt_df[['author']])"
   ]
  },
  {
   "cell_type": "markdown",
   "id": "c35bf390",
   "metadata": {},
   "source": [
    "We can select **multiple** columns, and display them as a DataFrame, by again passing in a **list of strings**, each corresponding to a column name. "
   ]
  },
  {
   "cell_type": "code",
   "execution_count": null,
   "id": "9f8318f1",
   "metadata": {},
   "outputs": [],
   "source": [
    "nyt_df[['week', 'rank', 'author', 'title']]"
   ]
  },
  {
   "cell_type": "markdown",
   "id": "dc99185b",
   "metadata": {},
   "source": [
    "# Counting Values\n",
    "\n",
    "Let's do some fun stuff with Pandas!!! \n",
    "\n",
    "The `.value_counts()` method counts the number of **unique items** in a particular column. The line of code below shows us the most frequently occuring **unique items** in the \"title\" column, ranked from highest to lowest. \n",
    "\n",
    "**What exactly is this showing us**?"
   ]
  },
  {
   "cell_type": "code",
   "execution_count": null,
   "id": "b54cdbb1",
   "metadata": {},
   "outputs": [],
   "source": [
    "nyt_df['title'].value_counts()"
   ]
  },
  {
   "cell_type": "markdown",
   "id": "236895a9",
   "metadata": {},
   "source": [
    "This does the same for the \"author\" column. **What exactly is it showing us**?"
   ]
  },
  {
   "cell_type": "code",
   "execution_count": null,
   "id": "bbdd25b5",
   "metadata": {},
   "outputs": [],
   "source": [
    "nyt_df['author'].value_counts()"
   ]
  },
  {
   "cell_type": "markdown",
   "id": "85864d3c",
   "metadata": {},
   "source": [
    "The outputs above are those `Series` objects again. I mentioned above that `Series` are a lot like `list`s, and indeed we can slice them just like `list`s if we want to see a particular number of values..."
   ]
  },
  {
   "cell_type": "code",
   "execution_count": null,
   "id": "ae7c7a8a",
   "metadata": {},
   "outputs": [],
   "source": [
    "nyt_df['author'].value_counts()[:20]"
   ]
  },
  {
   "cell_type": "code",
   "execution_count": null,
   "id": "d4c64093",
   "metadata": {
    "scrolled": true
   },
   "outputs": [],
   "source": [
    "nyt_df['title'].value_counts()[:20]"
   ]
  },
  {
   "cell_type": "markdown",
   "id": "57dfe3e3",
   "metadata": {},
   "source": [
    "The below line of code contains the average number of times that a given NYT Best Seller appears in the list. Can you find what that number is? Can you explain how this line of code works? Do you understand why we've stacked `.value_counts()` and `.describe()`?"
   ]
  },
  {
   "cell_type": "code",
   "execution_count": null,
   "id": "443a5ca3",
   "metadata": {},
   "outputs": [],
   "source": [
    "nyt_df['title'].value_counts().describe()"
   ]
  },
  {
   "cell_type": "markdown",
   "id": "bc9be38e",
   "metadata": {},
   "source": [
    "# Make and Save Plots\n",
    "\n",
    "Pandas is also very handy for making **plots**, aka visualizations of data. All you need to do is add the `.plot()` and some parameters. Here's the simplest `.plot()` command I can think of, which specifies that we want a **bar plot**.\n",
    "\n",
    "The types of plots in Pandas are are:\n",
    "\n",
    "- `bar` or `barh` for bar plots\n",
    "- `hist` for histogram\n",
    "- `box` for boxplot\n",
    "- `kde` or `density` for density plots\n",
    "- `area` for area plots\n",
    "- `scatter` for scatter plots\n",
    "- `hexbin` for hexagonal bin plots\n",
    "- `pie` for pie plots"
   ]
  },
  {
   "cell_type": "code",
   "execution_count": null,
   "id": "07deeeba",
   "metadata": {
    "scrolled": true
   },
   "outputs": [],
   "source": [
    "nyt_df['author'].value_counts()[:10].plot(kind=\"bar\")"
   ]
  },
  {
   "cell_type": "markdown",
   "id": "35560902",
   "metadata": {},
   "source": [
    "### Now, we're going to immediately get into the habit of **tucking our plots into variables**. \n",
    "\n",
    "### This is how we're asking you to make a plot in your homework, so take note!!\n",
    "\n",
    "Here's how we're asking you to make and display plots in Pandas."
   ]
  },
  {
   "cell_type": "code",
   "execution_count": null,
   "id": "83fa8d82",
   "metadata": {
    "scrolled": true
   },
   "outputs": [],
   "source": [
    "plot = nyt_df['author'].value_counts()[:10].plot(kind=\"bar\")\n",
    "print(plot)"
   ]
  },
  {
   "cell_type": "markdown",
   "id": "76059a70",
   "metadata": {},
   "source": [
    "Okay, let's add a title to that plot, using the `title` parameter (and a `\\n` \"newline\" character!)"
   ]
  },
  {
   "cell_type": "code",
   "execution_count": null,
   "id": "dcaf70fc",
   "metadata": {
    "scrolled": true
   },
   "outputs": [],
   "source": [
    "plot = nyt_df['author'].value_counts()[:10].plot(kind='bar', title='NYT Best Sellers:\\nTen Authors Who Appear Most Frequently')\n",
    "print(plot)"
   ]
  },
  {
   "cell_type": "markdown",
   "id": "414663fa",
   "metadata": {},
   "source": [
    "And let's try making two different kinds of plots.\n",
    "\n",
    "First, a `barh` or **horizontal bar**..."
   ]
  },
  {
   "cell_type": "code",
   "execution_count": null,
   "id": "77caaf6f",
   "metadata": {},
   "outputs": [],
   "source": [
    "plot = nyt_df['author'].value_counts()[:10].plot(kind='barh', title='NYT Best Sellers:\\nTen Authors Who Appear Most Frequently')\n",
    "print(plot)"
   ]
  },
  {
   "cell_type": "markdown",
   "id": "7f930f7c",
   "metadata": {},
   "source": [
    "Here is a `pie` plot — which could potentially be misconstrued in this context! **Why is this a potentially misleading plot?**"
   ]
  },
  {
   "cell_type": "code",
   "execution_count": null,
   "id": "1dfb1c38",
   "metadata": {
    "scrolled": true
   },
   "outputs": [],
   "source": [
    "plot = nyt_df['author'].value_counts()[:10].plot(kind='pie', figsize=(10, 10), title='NYT Best Sellers:\\nTen Authors Who Appear Most Frequently')\n",
    "print(plot)"
   ]
  },
  {
   "cell_type": "markdown",
   "id": "342c23a1",
   "metadata": {},
   "source": [
    "Now, if we wanted to **save** our pretty plot as a file, we could do so by applying the `.figure.savefig()` method to the variable containing our plot, and providing a filename as the argument."
   ]
  },
  {
   "cell_type": "code",
   "execution_count": null,
   "id": "fa495c5a",
   "metadata": {},
   "outputs": [],
   "source": [
    "plot = nyt_df['author'].value_counts()[:10].plot(kind='bar', title='NYT Best Sellers:\\nTen Authors Who Appear Most Frequently')\n",
    "plot.figure.savefig('NYT-top10authors-barchart.png')"
   ]
  },
  {
   "cell_type": "markdown",
   "id": "ba66bf15",
   "metadata": {},
   "source": [
    "# Filtering Data\n",
    "\n",
    "Let's say we wanted to produce a DataFrame object that ONLY included rows in which Toni Morrison is the author. We could do so with the following line of code:"
   ]
  },
  {
   "cell_type": "code",
   "execution_count": null,
   "id": "edddef48",
   "metadata": {
    "scrolled": true
   },
   "outputs": [],
   "source": [
    "nyt_df[nyt_df['author'] == 'Toni Morrison']"
   ]
  },
  {
   "cell_type": "markdown",
   "id": "a3087860",
   "metadata": {},
   "source": [
    "The syntax of the above line is a bit tortured, with its square brackets within square brackets. From this point onward in the semester, we're going to get used to somewhat convoluted — but useful! — coding syntax, sometimes just accepting that it works and learning how to modify it to get what we want. For instance, without COMPLETELY understanding the above line of code, I bet you could figure out how to show me all the rows in which Virginia Woolf is the author!\n",
    "\n",
    "But if you're curious to know what's actually going on, let's see what's inside this bit of code — i.e., the code that comes... `nyt_df[ RIGHT HERE ]` in the line of code above."
   ]
  },
  {
   "cell_type": "code",
   "execution_count": null,
   "id": "ba80ef5c",
   "metadata": {
    "scrolled": false
   },
   "outputs": [],
   "source": [
    "nyt_df['author'] == 'Toni Morrison'"
   ]
  },
  {
   "cell_type": "code",
   "execution_count": null,
   "id": "80b0e249",
   "metadata": {},
   "outputs": [],
   "source": [
    "type(nyt_df['author'] == 'Toni Morrison')"
   ]
  },
  {
   "cell_type": "markdown",
   "id": "8900cdde",
   "metadata": {},
   "source": [
    "As you can see, this returns `Series` containng `True` or `False` for every row in the DataFrame: it is, in other words a `**bolean Series**`.\n",
    "\n",
    "Let's put that **boolean Series** in its own variable."
   ]
  },
  {
   "cell_type": "code",
   "execution_count": null,
   "id": "50a9cc41",
   "metadata": {},
   "outputs": [],
   "source": [
    "morrison_filter = nyt_df['author'] == 'Toni Morrison'\n",
    "type(morrison_filter)"
   ]
  },
  {
   "cell_type": "markdown",
   "id": "e1353524",
   "metadata": {},
   "source": [
    "Pandas has built-in functionality whereby, if \"subset\" or \"slice\" a DataFrame with a **boolean Series** of the same length as that DataFrame, it will produce a new DataFrame that only contains the rows marked `True` in the boolean Series.\n",
    "\n",
    "The below line of code is absolutely equivalent to `nyt_df[nyt_df['author'] == 'Toni Morrison']` encountered earlier — just a bit easier to read and understand!"
   ]
  },
  {
   "cell_type": "code",
   "execution_count": null,
   "id": "77c107d5",
   "metadata": {},
   "outputs": [],
   "source": [
    "nyt_df[morrison_filter]"
   ]
  },
  {
   "cell_type": "markdown",
   "id": "ba54f1fe",
   "metadata": {},
   "source": [
    "Let's capture that output -— that 115 row x 6 column DataFrame -- in a variable. The below lines of code do exactly the same thing."
   ]
  },
  {
   "cell_type": "code",
   "execution_count": null,
   "id": "15d0f9c2",
   "metadata": {},
   "outputs": [],
   "source": [
    "morrison_nyt = nyt_df[nyt_df['author'] == 'Toni Morrison']\n",
    "morrison_nyt = nyt_df[morrison_filter]"
   ]
  },
  {
   "cell_type": "markdown",
   "id": "2be7a9fd",
   "metadata": {},
   "source": [
    "Let's have a look at that variable..."
   ]
  },
  {
   "cell_type": "code",
   "execution_count": null,
   "id": "d6fa5f64",
   "metadata": {},
   "outputs": [],
   "source": [
    "morrison_nyt"
   ]
  },
  {
   "cell_type": "markdown",
   "id": "cc83a856",
   "metadata": {},
   "source": [
    "Can you think of the line of code you would need to use to display all the rows in the dataset for novels titled \"BELOVED\"? (As you've noticed, book titles in this dataset are in ALL CAPS)"
   ]
  },
  {
   "cell_type": "code",
   "execution_count": null,
   "id": "5cfe51ec",
   "metadata": {},
   "outputs": [],
   "source": []
  },
  {
   "cell_type": "markdown",
   "id": "87b75178",
   "metadata": {},
   "source": [
    "How about a line of code that could create a new DataFrame that only contains titles that achieved the rank of #1 on the best seller list?"
   ]
  },
  {
   "cell_type": "code",
   "execution_count": null,
   "id": "5d88b79f",
   "metadata": {},
   "outputs": [],
   "source": []
  }
 ],
 "metadata": {
  "kernelspec": {
   "display_name": "Python 3 (ipykernel)",
   "language": "python",
   "name": "python3"
  },
  "language_info": {
   "codemirror_mode": {
    "name": "ipython",
    "version": 3
   },
   "file_extension": ".py",
   "mimetype": "text/x-python",
   "name": "python",
   "nbconvert_exporter": "python",
   "pygments_lexer": "ipython3",
   "version": "3.9.7"
  }
 },
 "nbformat": 4,
 "nbformat_minor": 5
}
